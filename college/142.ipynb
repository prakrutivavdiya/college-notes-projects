{
  "nbformat": 4,
  "nbformat_minor": 0,
  "metadata": {
    "colab": {
      "name": "142_lab2.ipynb",
      "provenance": []
    },
    "kernelspec": {
      "name": "python3",
      "display_name": "Python 3"
    }
  },
  "cells": [
    {
      "cell_type": "markdown",
      "metadata": {
        "id": "U4iHSYWpFfHx",
        "colab_type": "text"
      },
      "source": [
        "Handling Missing values"
      ]
    },
    {
      "cell_type": "code",
      "metadata": {
        "id": "lfWRrDvh0ALs",
        "colab_type": "code",
        "colab": {
          "base_uri": "https://localhost:8080/",
          "height": 425
        },
        "outputId": "efe7352a-9bd4-42a9-e7f5-23bd34a626a3"
      },
      "source": [
        "import numpy as np \n",
        "import pandas as pd\n",
        "from sklearn.impute import SimpleImputer \n",
        "#Load Data\n",
        "        \n",
        "datasets = pd.read_csv('/content/Exercise-CarData.csv') \n",
        "print(\"\\nData :\\n\",datasets)\n",
        "\n",
        "X = datasets.iloc[:, 1:].values # all column except untitled i.e record number column\n",
        "Y=  datasets.iloc[:, 0].values  # record number column\n",
        "print(X)\n",
        "print(Y)"
      ],
      "execution_count": 269,
      "outputs": [
        {
          "output_type": "stream",
          "text": [
            "\n",
            "Data :\n",
            "       Unnamed: 0  Price   Age     KM  ... Automatic    CC  Doors  Weight\n",
            "0              0  13500  23.0  46986  ...         0  2000  three    1165\n",
            "1              1  13750  23.0  72937  ...         0  2000      3    1165\n",
            "2              2  13950  24.0  41711  ...         0  2000      3    1165\n",
            "3              3  14950  26.0  48000  ...         0  2000      3    1165\n",
            "4              4  13750  30.0  38500  ...         0  2000      3    1170\n",
            "...          ...    ...   ...    ...  ...       ...   ...    ...     ...\n",
            "1431        1431   7500   NaN  20544  ...         0  1300      3    1025\n",
            "1432        1432  10845  72.0     ??  ...         0  1300      3    1015\n",
            "1433        1433   8500   NaN  17016  ...         0  1300      3    1015\n",
            "1434        1434   7250  70.0     ??  ...         0  1300      3    1015\n",
            "1435        1435   6950  76.0      1  ...         0  1600      5    1114\n",
            "\n",
            "[1436 rows x 11 columns]\n",
            "[[13500 23.0 '46986' ... 2000 'three' 1165]\n",
            " [13750 23.0 '72937' ... 2000 '3' 1165]\n",
            " [13950 24.0 '41711' ... 2000 '3' 1165]\n",
            " ...\n",
            " [8500 nan '17016' ... 1300 '3' 1015]\n",
            " [7250 70.0 '??' ... 1300 '3' 1015]\n",
            " [6950 76.0 '1' ... 1600 '5' 1114]]\n",
            "[   0    1    2 ... 1433 1434 1435]\n"
          ],
          "name": "stdout"
        }
      ]
    },
    {
      "cell_type": "code",
      "metadata": {
        "id": "Z1bNzO362-hR",
        "colab_type": "code",
        "colab": {
          "base_uri": "https://localhost:8080/",
          "height": 272
        },
        "outputId": "78edc31a-04df-4891-85fe-af976c562109"
      },
      "source": [
        "# Removing the row with all null values\n",
        "\n",
        "datasets.dropna(how='all',inplace=True)\n",
        "print(\"\\nNew Data :\",datasets)"
      ],
      "execution_count": 270,
      "outputs": [
        {
          "output_type": "stream",
          "text": [
            "\n",
            "New Data :       Unnamed: 0  Price   Age     KM  ... Automatic    CC  Doors  Weight\n",
            "0              0  13500  23.0  46986  ...         0  2000  three    1165\n",
            "1              1  13750  23.0  72937  ...         0  2000      3    1165\n",
            "2              2  13950  24.0  41711  ...         0  2000      3    1165\n",
            "3              3  14950  26.0  48000  ...         0  2000      3    1165\n",
            "4              4  13750  30.0  38500  ...         0  2000      3    1170\n",
            "...          ...    ...   ...    ...  ...       ...   ...    ...     ...\n",
            "1431        1431   7500   NaN  20544  ...         0  1300      3    1025\n",
            "1432        1432  10845  72.0     ??  ...         0  1300      3    1015\n",
            "1433        1433   8500   NaN  17016  ...         0  1300      3    1015\n",
            "1434        1434   7250  70.0     ??  ...         0  1300      3    1015\n",
            "1435        1435   6950  76.0      1  ...         0  1600      5    1114\n",
            "\n",
            "[1436 rows x 11 columns]\n"
          ],
          "name": "stdout"
        }
      ]
    },
    {
      "cell_type": "code",
      "metadata": {
        "id": "xTA4dXwf3SRQ",
        "colab_type": "code",
        "colab": {}
      },
      "source": [
        "#replacing ?? and ???? with null\n",
        "x=datasets[\"KM\"][1434]\n",
        "for i in range(1436):\n",
        "  if(datasets[\"KM\"][i] ==x):\n",
        "    datasets[\"KM\"][i]=np.nan\n",
        "#print(datasets[\"KM\"])\n",
        "x=datasets[\"HP\"][6]\n",
        "for i in range(1436):\n",
        "  if(datasets[\"HP\"][i] ==x):\n",
        "    datasets[\"HP\"][i]=np.nan\n",
        "#print(datasets[\"HP\"])"
      ],
      "execution_count": null,
      "outputs": []
    },
    {
      "cell_type": "code",
      "metadata": {
        "id": "kZXzGDJjDlBy",
        "colab_type": "code",
        "colab": {
          "base_uri": "https://localhost:8080/",
          "height": 323
        },
        "outputId": "c0a07657-d3bc-4df0-bd95-6fc653a66c00"
      },
      "source": [
        "#Imputation (Replacing null values with mean value of that attribute)\n",
        "\n",
        "# All rows, all columns except first \n",
        "new_X = datasets.iloc[:, 1:].values \n",
        "  \n",
        "# Only first column  \n",
        "new_Y = datasets.iloc[:, 0].values \n",
        "\n",
        "\n",
        "# Using Imputer function to replace NaN values with mean of that parameter value \n",
        "imputer = SimpleImputer(missing_values = np.nan,strategy = \"mean\")\n",
        "imputer2 = SimpleImputer(missing_values = np.nan,strategy = \"mean\")\n",
        "\n",
        "# Fitting the data, function learns the stats \n",
        "imputer = imputer.fit(new_X[:, 1:3]) \n",
        "imputer2 = imputer2.fit(new_X[:, 4:6]) \n",
        "# fit_transform() will execute those stats on the input ie. X[:, 1:3] \n",
        "datasets.iloc[:, 2:4] = imputer.transform(new_X[:, 1:3]) \n",
        "datasets.iloc[:, 5:7] = imputer.transform(new_X[:, 4:6]) \n",
        "# filling the missing value with mean \n",
        "print(\"\\n\\nNew Input with Mean Value for NaN : \\n\\n\", datasets) "
      ],
      "execution_count": 272,
      "outputs": [
        {
          "output_type": "stream",
          "text": [
            "\n",
            "\n",
            "New Input with Mean Value for NaN : \n",
            "\n",
            "       Unnamed: 0  Price        Age  ...    CC  Doors  Weight\n",
            "0              0  13500  23.000000  ...  2000  three    1165\n",
            "1              1  13750  23.000000  ...  2000      3    1165\n",
            "2              2  13950  24.000000  ...  2000      3    1165\n",
            "3              3  14950  26.000000  ...  2000      3    1165\n",
            "4              4  13750  30.000000  ...  2000      3    1170\n",
            "...          ...    ...        ...  ...   ...    ...     ...\n",
            "1431        1431   7500  55.672156  ...  1300      3    1025\n",
            "1432        1432  10845  72.000000  ...  1300      3    1015\n",
            "1433        1433   8500  55.672156  ...  1300      3    1015\n",
            "1434        1434   7250  70.000000  ...  1300      3    1015\n",
            "1435        1435   6950  76.000000  ...  1600      5    1114\n",
            "\n",
            "[1436 rows x 11 columns]\n"
          ],
          "name": "stdout"
        }
      ]
    },
    {
      "cell_type": "code",
      "metadata": {
        "id": "WQ7AYKr_I3af",
        "colab_type": "code",
        "colab": {
          "base_uri": "https://localhost:8080/",
          "height": 292
        },
        "outputId": "eb35d400-0298-4af7-8014-6a7424a3eb71"
      },
      "source": [
        "for i in range(1436):\n",
        "  if(datasets['Doors'][i]=='three'):\n",
        "    datasets['Doors'][i]='3'\n",
        "  if(datasets['Doors'][i]=='four'):\n",
        "    datasets['Doors'][i]='4'\n",
        "  if(datasets['Doors'][i]=='five'):\n",
        "    datasets['Doors'][i]='5'"
      ],
      "execution_count": 273,
      "outputs": [
        {
          "output_type": "stream",
          "text": [
            "/usr/local/lib/python3.6/dist-packages/ipykernel_launcher.py:3: SettingWithCopyWarning: \n",
            "A value is trying to be set on a copy of a slice from a DataFrame\n",
            "\n",
            "See the caveats in the documentation: https://pandas.pydata.org/pandas-docs/stable/user_guide/indexing.html#returning-a-view-versus-a-copy\n",
            "  This is separate from the ipykernel package so we can avoid doing imports until\n",
            "/usr/local/lib/python3.6/dist-packages/ipykernel_launcher.py:5: SettingWithCopyWarning: \n",
            "A value is trying to be set on a copy of a slice from a DataFrame\n",
            "\n",
            "See the caveats in the documentation: https://pandas.pydata.org/pandas-docs/stable/user_guide/indexing.html#returning-a-view-versus-a-copy\n",
            "  \"\"\"\n",
            "/usr/local/lib/python3.6/dist-packages/ipykernel_launcher.py:7: SettingWithCopyWarning: \n",
            "A value is trying to be set on a copy of a slice from a DataFrame\n",
            "\n",
            "See the caveats in the documentation: https://pandas.pydata.org/pandas-docs/stable/user_guide/indexing.html#returning-a-view-versus-a-copy\n",
            "  import sys\n"
          ],
          "name": "stderr"
        }
      ]
    },
    {
      "cell_type": "code",
      "metadata": {
        "id": "dkJFYWnuMUPN",
        "colab_type": "code",
        "colab": {
          "base_uri": "https://localhost:8080/",
          "height": 173
        },
        "outputId": "c07346f0-1517-4ee7-8050-ad62b3d7354c"
      },
      "source": [
        "print(datasets[datasets.FuelType == 'Petrol'].shape[0])\n",
        "print(datasets[datasets.FuelType == 'Diesel'].shape[0])\n",
        "print(datasets[datasets.FuelType == 'CNG'].shape[0])\n",
        "x=['Petrol','Diesel','CNG']\n",
        "m=datasets['FuelType'][7]\n",
        "#print(m,type(m))\n",
        "for i in range(1436):\n",
        "  if(datasets['FuelType'][i]is m):\n",
        "    datasets['FuelType'][i]=x[i%3]    #running as per index of missing value foe equal distribution\n",
        "    #print(i%3,x[i%3])\n",
        "#datasets['FuelType'][7]"
      ],
      "execution_count": 274,
      "outputs": [
        {
          "output_type": "stream",
          "text": [
            "1177\n",
            "144\n",
            "15\n"
          ],
          "name": "stdout"
        },
        {
          "output_type": "stream",
          "text": [
            "/usr/local/lib/python3.6/dist-packages/ipykernel_launcher.py:9: SettingWithCopyWarning: \n",
            "A value is trying to be set on a copy of a slice from a DataFrame\n",
            "\n",
            "See the caveats in the documentation: https://pandas.pydata.org/pandas-docs/stable/user_guide/indexing.html#returning-a-view-versus-a-copy\n",
            "  if __name__ == '__main__':\n"
          ],
          "name": "stderr"
        }
      ]
    },
    {
      "cell_type": "markdown",
      "metadata": {
        "id": "8nLDJPoIFlzN",
        "colab_type": "text"
      },
      "source": [
        "Data Transformation"
      ]
    },
    {
      "cell_type": "code",
      "metadata": {
        "id": "wEMOTBXMFp49",
        "colab_type": "code",
        "colab": {
          "base_uri": "https://localhost:8080/",
          "height": 187
        },
        "outputId": "b4659a85-2d83-4a51-9401-0d90b394e157"
      },
      "source": [
        "from sklearn.preprocessing import MinMaxScaler, StandardScaler\n",
        "# All rows, all columns except first \n",
        "X = datasets.iloc[:, 1:].values \n",
        "  \n",
        "# Only first column  \n",
        "Y = datasets.iloc[:, 0].values \n",
        "#print(X)\n",
        "#print(Y)\n",
        "X_new = datasets.iloc[:,1:4].values\n",
        "print(\"\\n\\nX for transformation : \\n\", X_new)"
      ],
      "execution_count": 275,
      "outputs": [
        {
          "output_type": "stream",
          "text": [
            "\n",
            "\n",
            "X for transformation : \n",
            " [[1.35000000e+04 2.30000000e+01 4.69860000e+04]\n",
            " [1.37500000e+04 2.30000000e+01 7.29370000e+04]\n",
            " [1.39500000e+04 2.40000000e+01 4.17110000e+04]\n",
            " ...\n",
            " [8.50000000e+03 5.56721557e+01 1.70160000e+04]\n",
            " [7.25000000e+03 7.00000000e+01 6.86472400e+04]\n",
            " [6.95000000e+03 7.60000000e+01 1.00000000e+00]]\n"
          ],
          "name": "stdout"
        }
      ]
    },
    {
      "cell_type": "code",
      "metadata": {
        "id": "IGiVvTwhHgbj",
        "colab_type": "code",
        "colab": {
          "base_uri": "https://localhost:8080/",
          "height": 357
        },
        "outputId": "06a80543-232b-4b06-e3ed-f274cf9326be"
      },
      "source": [
        "#scaling\n",
        "scaler = MinMaxScaler()\n",
        "X_scaled = scaler.fit_transform(X_new)\n",
        "print(\"\\n\\nScaled X : \\n\", X_scaled)\n",
        "#stardandization\n",
        "std = StandardScaler()\n",
        "X_std = std.fit_transform(X_new)\n",
        "print(\"\\n\\nStandardized X : \\n\", X_std)"
      ],
      "execution_count": 276,
      "outputs": [
        {
          "output_type": "stream",
          "text": [
            "\n",
            "\n",
            "Scaled X : \n",
            " [[0.3250444  0.27848101 0.19335471]\n",
            " [0.3339254  0.27848101 0.30014938]\n",
            " [0.3410302  0.29113924 0.1716468 ]\n",
            " ...\n",
            " [0.14742451 0.6920526  0.07002086]\n",
            " [0.10301954 0.87341772 0.28249598]\n",
            " [0.09236234 0.94936709 0.        ]]\n",
            "\n",
            "\n",
            "Standardized X : \n",
            " [[ 0.76376268 -1.82280225 -0.58347627]\n",
            " [ 0.83271485 -1.82280225  0.11555078]\n",
            " [ 0.88787659 -1.76701156 -0.72556589]\n",
            " ...\n",
            " [-0.6152808   0.         -1.39076079]\n",
            " [-0.96004167  0.79936038  0.        ]\n",
            " [-1.04278428  1.13410455 -1.84908399]]\n"
          ],
          "name": "stdout"
        }
      ]
    },
    {
      "cell_type": "markdown",
      "metadata": {
        "id": "GSoYLmm4IoHL",
        "colab_type": "text"
      },
      "source": [
        "Handling Categorial data"
      ]
    },
    {
      "cell_type": "code",
      "metadata": {
        "id": "Cb1mLTptML54",
        "colab_type": "code",
        "colab": {
          "base_uri": "https://localhost:8080/",
          "height": 85
        },
        "outputId": "5eeb3d98-7401-4607-f92b-33f972fef4d2"
      },
      "source": [
        "from sklearn.preprocessing import LabelEncoder,OneHotEncoder\n",
        "\n",
        "# All rows, all columns except first \n",
        "X = datasets.iloc[:, 1:].values \n",
        "  \n",
        "# Only first column  \n",
        "Y = datasets.iloc[:, 0].values \n",
        "\n",
        "# Apply LabelEncoder on the data to convert fuel type into numeric values\n",
        "\n",
        "le = LabelEncoder()\n",
        "X[ : ,3] = le.fit_transform(X[ : ,3])\n",
        "print(\"\\n\\nInput : \\n\", X[:,3]) \n"
      ],
      "execution_count": 277,
      "outputs": [
        {
          "output_type": "stream",
          "text": [
            "\n",
            "\n",
            "Input : \n",
            " [1 1 1 ... 2 2 2]\n"
          ],
          "name": "stdout"
        }
      ]
    },
    {
      "cell_type": "code",
      "metadata": {
        "id": "s1CucXaZRgmn",
        "colab_type": "code",
        "colab": {
          "base_uri": "https://localhost:8080/",
          "height": 595
        },
        "outputId": "42be3232-0c9d-4b2a-d783-1e51b27c04d5"
      },
      "source": [
        "# Step 4b: Use dummy variables from pandas library\n",
        "#          to create one column for each country\n",
        "\n",
        "dummy = pd.get_dummies(datasets['FuelType'])\n",
        "print(\"\\n\\nDummy :\\n\",dummy)\n",
        "datasets = datasets.drop(['FuelType'],axis=1)\n",
        "datasets = pd.concat([dummy,datasets],axis=1)\n",
        "print(\"\\n\\nFinal Data :\\n\",datasets)"
      ],
      "execution_count": 278,
      "outputs": [
        {
          "output_type": "stream",
          "text": [
            "\n",
            "\n",
            "Dummy :\n",
            "       CNG  Diesel  Petrol\n",
            "0       0       1       0\n",
            "1       0       1       0\n",
            "2       0       1       0\n",
            "3       0       1       0\n",
            "4       0       1       0\n",
            "...   ...     ...     ...\n",
            "1431    0       0       1\n",
            "1432    0       0       1\n",
            "1433    0       0       1\n",
            "1434    0       0       1\n",
            "1435    0       0       1\n",
            "\n",
            "[1436 rows x 3 columns]\n",
            "\n",
            "\n",
            "Final Data :\n",
            "       CNG  Diesel  Petrol  Unnamed: 0  ...  Automatic    CC  Doors  Weight\n",
            "0       0       1       0           0  ...          0  2000      3    1165\n",
            "1       0       1       0           1  ...          0  2000      3    1165\n",
            "2       0       1       0           2  ...          0  2000      3    1165\n",
            "3       0       1       0           3  ...          0  2000      3    1165\n",
            "4       0       1       0           4  ...          0  2000      3    1170\n",
            "...   ...     ...     ...         ...  ...        ...   ...    ...     ...\n",
            "1431    0       0       1        1431  ...          0  1300      3    1025\n",
            "1432    0       0       1        1432  ...          0  1300      3    1015\n",
            "1433    0       0       1        1433  ...          0  1300      3    1015\n",
            "1434    0       0       1        1434  ...          0  1300      3    1015\n",
            "1435    0       0       1        1435  ...          0  1600      5    1114\n",
            "\n",
            "[1436 rows x 13 columns]\n"
          ],
          "name": "stdout"
        }
      ]
    },
    {
      "cell_type": "markdown",
      "metadata": {
        "id": "oCuPlM8pSOXa",
        "colab_type": "text"
      },
      "source": [
        "Feature selection"
      ]
    },
    {
      "cell_type": "code",
      "metadata": {
        "id": "BJD1wnqcR_zl",
        "colab_type": "code",
        "colab": {
          "base_uri": "https://localhost:8080/",
          "height": 419
        },
        "outputId": "59531057-e17d-4464-d163-c1a68f6d35a7"
      },
      "source": [
        "import seaborn as sns\n",
        "#droping  record number\n",
        "datasets = datasets.drop(datasets.columns[3],axis=1)\n",
        "datasets"
      ],
      "execution_count": 279,
      "outputs": [
        {
          "output_type": "execute_result",
          "data": {
            "text/html": [
              "<div>\n",
              "<style scoped>\n",
              "    .dataframe tbody tr th:only-of-type {\n",
              "        vertical-align: middle;\n",
              "    }\n",
              "\n",
              "    .dataframe tbody tr th {\n",
              "        vertical-align: top;\n",
              "    }\n",
              "\n",
              "    .dataframe thead th {\n",
              "        text-align: right;\n",
              "    }\n",
              "</style>\n",
              "<table border=\"1\" class=\"dataframe\">\n",
              "  <thead>\n",
              "    <tr style=\"text-align: right;\">\n",
              "      <th></th>\n",
              "      <th>CNG</th>\n",
              "      <th>Diesel</th>\n",
              "      <th>Petrol</th>\n",
              "      <th>Price</th>\n",
              "      <th>Age</th>\n",
              "      <th>KM</th>\n",
              "      <th>HP</th>\n",
              "      <th>MetColor</th>\n",
              "      <th>Automatic</th>\n",
              "      <th>CC</th>\n",
              "      <th>Doors</th>\n",
              "      <th>Weight</th>\n",
              "    </tr>\n",
              "  </thead>\n",
              "  <tbody>\n",
              "    <tr>\n",
              "      <th>0</th>\n",
              "      <td>0</td>\n",
              "      <td>1</td>\n",
              "      <td>0</td>\n",
              "      <td>13500</td>\n",
              "      <td>23.000000</td>\n",
              "      <td>46986.000000</td>\n",
              "      <td>90.0</td>\n",
              "      <td>1.000000</td>\n",
              "      <td>0</td>\n",
              "      <td>2000</td>\n",
              "      <td>3</td>\n",
              "      <td>1165</td>\n",
              "    </tr>\n",
              "    <tr>\n",
              "      <th>1</th>\n",
              "      <td>0</td>\n",
              "      <td>1</td>\n",
              "      <td>0</td>\n",
              "      <td>13750</td>\n",
              "      <td>23.000000</td>\n",
              "      <td>72937.000000</td>\n",
              "      <td>90.0</td>\n",
              "      <td>1.000000</td>\n",
              "      <td>0</td>\n",
              "      <td>2000</td>\n",
              "      <td>3</td>\n",
              "      <td>1165</td>\n",
              "    </tr>\n",
              "    <tr>\n",
              "      <th>2</th>\n",
              "      <td>0</td>\n",
              "      <td>1</td>\n",
              "      <td>0</td>\n",
              "      <td>13950</td>\n",
              "      <td>24.000000</td>\n",
              "      <td>41711.000000</td>\n",
              "      <td>90.0</td>\n",
              "      <td>68647.239972</td>\n",
              "      <td>0</td>\n",
              "      <td>2000</td>\n",
              "      <td>3</td>\n",
              "      <td>1165</td>\n",
              "    </tr>\n",
              "    <tr>\n",
              "      <th>3</th>\n",
              "      <td>0</td>\n",
              "      <td>1</td>\n",
              "      <td>0</td>\n",
              "      <td>14950</td>\n",
              "      <td>26.000000</td>\n",
              "      <td>48000.000000</td>\n",
              "      <td>90.0</td>\n",
              "      <td>0.000000</td>\n",
              "      <td>0</td>\n",
              "      <td>2000</td>\n",
              "      <td>3</td>\n",
              "      <td>1165</td>\n",
              "    </tr>\n",
              "    <tr>\n",
              "      <th>4</th>\n",
              "      <td>0</td>\n",
              "      <td>1</td>\n",
              "      <td>0</td>\n",
              "      <td>13750</td>\n",
              "      <td>30.000000</td>\n",
              "      <td>38500.000000</td>\n",
              "      <td>90.0</td>\n",
              "      <td>0.000000</td>\n",
              "      <td>0</td>\n",
              "      <td>2000</td>\n",
              "      <td>3</td>\n",
              "      <td>1170</td>\n",
              "    </tr>\n",
              "    <tr>\n",
              "      <th>...</th>\n",
              "      <td>...</td>\n",
              "      <td>...</td>\n",
              "      <td>...</td>\n",
              "      <td>...</td>\n",
              "      <td>...</td>\n",
              "      <td>...</td>\n",
              "      <td>...</td>\n",
              "      <td>...</td>\n",
              "      <td>...</td>\n",
              "      <td>...</td>\n",
              "      <td>...</td>\n",
              "      <td>...</td>\n",
              "    </tr>\n",
              "    <tr>\n",
              "      <th>1431</th>\n",
              "      <td>0</td>\n",
              "      <td>0</td>\n",
              "      <td>1</td>\n",
              "      <td>7500</td>\n",
              "      <td>55.672156</td>\n",
              "      <td>20544.000000</td>\n",
              "      <td>86.0</td>\n",
              "      <td>1.000000</td>\n",
              "      <td>0</td>\n",
              "      <td>1300</td>\n",
              "      <td>3</td>\n",
              "      <td>1025</td>\n",
              "    </tr>\n",
              "    <tr>\n",
              "      <th>1432</th>\n",
              "      <td>0</td>\n",
              "      <td>0</td>\n",
              "      <td>1</td>\n",
              "      <td>10845</td>\n",
              "      <td>72.000000</td>\n",
              "      <td>68647.239972</td>\n",
              "      <td>86.0</td>\n",
              "      <td>0.000000</td>\n",
              "      <td>0</td>\n",
              "      <td>1300</td>\n",
              "      <td>3</td>\n",
              "      <td>1015</td>\n",
              "    </tr>\n",
              "    <tr>\n",
              "      <th>1433</th>\n",
              "      <td>0</td>\n",
              "      <td>0</td>\n",
              "      <td>1</td>\n",
              "      <td>8500</td>\n",
              "      <td>55.672156</td>\n",
              "      <td>17016.000000</td>\n",
              "      <td>86.0</td>\n",
              "      <td>0.000000</td>\n",
              "      <td>0</td>\n",
              "      <td>1300</td>\n",
              "      <td>3</td>\n",
              "      <td>1015</td>\n",
              "    </tr>\n",
              "    <tr>\n",
              "      <th>1434</th>\n",
              "      <td>0</td>\n",
              "      <td>0</td>\n",
              "      <td>1</td>\n",
              "      <td>7250</td>\n",
              "      <td>70.000000</td>\n",
              "      <td>68647.239972</td>\n",
              "      <td>86.0</td>\n",
              "      <td>1.000000</td>\n",
              "      <td>0</td>\n",
              "      <td>1300</td>\n",
              "      <td>3</td>\n",
              "      <td>1015</td>\n",
              "    </tr>\n",
              "    <tr>\n",
              "      <th>1435</th>\n",
              "      <td>0</td>\n",
              "      <td>0</td>\n",
              "      <td>1</td>\n",
              "      <td>6950</td>\n",
              "      <td>76.000000</td>\n",
              "      <td>1.000000</td>\n",
              "      <td>110.0</td>\n",
              "      <td>0.000000</td>\n",
              "      <td>0</td>\n",
              "      <td>1600</td>\n",
              "      <td>5</td>\n",
              "      <td>1114</td>\n",
              "    </tr>\n",
              "  </tbody>\n",
              "</table>\n",
              "<p>1436 rows × 12 columns</p>\n",
              "</div>"
            ],
            "text/plain": [
              "      CNG  Diesel  Petrol  Price  ...  Automatic    CC  Doors  Weight\n",
              "0       0       1       0  13500  ...          0  2000      3    1165\n",
              "1       0       1       0  13750  ...          0  2000      3    1165\n",
              "2       0       1       0  13950  ...          0  2000      3    1165\n",
              "3       0       1       0  14950  ...          0  2000      3    1165\n",
              "4       0       1       0  13750  ...          0  2000      3    1170\n",
              "...   ...     ...     ...    ...  ...        ...   ...    ...     ...\n",
              "1431    0       0       1   7500  ...          0  1300      3    1025\n",
              "1432    0       0       1  10845  ...          0  1300      3    1015\n",
              "1433    0       0       1   8500  ...          0  1300      3    1015\n",
              "1434    0       0       1   7250  ...          0  1300      3    1015\n",
              "1435    0       0       1   6950  ...          0  1600      5    1114\n",
              "\n",
              "[1436 rows x 12 columns]"
            ]
          },
          "metadata": {
            "tags": []
          },
          "execution_count": 279
        }
      ]
    },
    {
      "cell_type": "code",
      "metadata": {
        "id": "cR5rK5TXUl8C",
        "colab_type": "code",
        "colab": {
          "base_uri": "https://localhost:8080/",
          "height": 340
        },
        "outputId": "5c33c010-8ae9-4ac4-b62c-ce62e20fda34"
      },
      "source": [
        "datasets.info()"
      ],
      "execution_count": 280,
      "outputs": [
        {
          "output_type": "stream",
          "text": [
            "<class 'pandas.core.frame.DataFrame'>\n",
            "Int64Index: 1436 entries, 0 to 1435\n",
            "Data columns (total 12 columns):\n",
            " #   Column     Non-Null Count  Dtype  \n",
            "---  ------     --------------  -----  \n",
            " 0   CNG        1436 non-null   uint8  \n",
            " 1   Diesel     1436 non-null   uint8  \n",
            " 2   Petrol     1436 non-null   uint8  \n",
            " 3   Price      1436 non-null   int64  \n",
            " 4   Age        1436 non-null   float64\n",
            " 5   KM         1436 non-null   float64\n",
            " 6   HP         1436 non-null   float64\n",
            " 7   MetColor   1436 non-null   float64\n",
            " 8   Automatic  1436 non-null   int64  \n",
            " 9   CC         1436 non-null   int64  \n",
            " 10  Doors      1436 non-null   object \n",
            " 11  Weight     1436 non-null   int64  \n",
            "dtypes: float64(4), int64(4), object(1), uint8(3)\n",
            "memory usage: 156.4+ KB\n"
          ],
          "name": "stdout"
        }
      ]
    },
    {
      "cell_type": "code",
      "metadata": {
        "id": "iFpY44xAUvAF",
        "colab_type": "code",
        "colab": {
          "base_uri": "https://localhost:8080/",
          "height": 204
        },
        "outputId": "9c19978f-d06d-4550-b0a4-cb6f1ec71ca7"
      },
      "source": [
        "#datasets\n",
        "corr = datasets.corr()\n",
        "corr.head()"
      ],
      "execution_count": 291,
      "outputs": [
        {
          "output_type": "execute_result",
          "data": {
            "text/html": [
              "<div>\n",
              "<style scoped>\n",
              "    .dataframe tbody tr th:only-of-type {\n",
              "        vertical-align: middle;\n",
              "    }\n",
              "\n",
              "    .dataframe tbody tr th {\n",
              "        vertical-align: top;\n",
              "    }\n",
              "\n",
              "    .dataframe thead th {\n",
              "        text-align: right;\n",
              "    }\n",
              "</style>\n",
              "<table border=\"1\" class=\"dataframe\">\n",
              "  <thead>\n",
              "    <tr style=\"text-align: right;\">\n",
              "      <th></th>\n",
              "      <th>CNG</th>\n",
              "      <th>Diesel</th>\n",
              "      <th>Petrol</th>\n",
              "      <th>Price</th>\n",
              "      <th>Age</th>\n",
              "      <th>KM</th>\n",
              "      <th>HP</th>\n",
              "      <th>MetColor</th>\n",
              "      <th>Automatic</th>\n",
              "      <th>CC</th>\n",
              "      <th>Weight</th>\n",
              "    </tr>\n",
              "  </thead>\n",
              "  <tbody>\n",
              "    <tr>\n",
              "      <th>CNG</th>\n",
              "      <td>1.000000</td>\n",
              "      <td>-0.075549</td>\n",
              "      <td>-0.451151</td>\n",
              "      <td>0.009530</td>\n",
              "      <td>-0.014904</td>\n",
              "      <td>0.041493</td>\n",
              "      <td>0.016636</td>\n",
              "      <td>0.026751</td>\n",
              "      <td>-0.001014</td>\n",
              "      <td>-0.020934</td>\n",
              "      <td>0.023011</td>\n",
              "    </tr>\n",
              "    <tr>\n",
              "      <th>Diesel</th>\n",
              "      <td>-0.075549</td>\n",
              "      <td>1.000000</td>\n",
              "      <td>-0.855813</td>\n",
              "      <td>0.019582</td>\n",
              "      <td>-0.049861</td>\n",
              "      <td>0.364698</td>\n",
              "      <td>-0.493485</td>\n",
              "      <td>0.028865</td>\n",
              "      <td>-0.064442</td>\n",
              "      <td>0.671415</td>\n",
              "      <td>0.490119</td>\n",
              "    </tr>\n",
              "    <tr>\n",
              "      <th>Petrol</th>\n",
              "      <td>-0.451151</td>\n",
              "      <td>-0.855813</td>\n",
              "      <td>1.000000</td>\n",
              "      <td>-0.022469</td>\n",
              "      <td>0.052357</td>\n",
              "      <td>-0.347932</td>\n",
              "      <td>0.433042</td>\n",
              "      <td>-0.039712</td>\n",
              "      <td>0.058202</td>\n",
              "      <td>-0.590060</td>\n",
              "      <td>-0.450596</td>\n",
              "    </tr>\n",
              "    <tr>\n",
              "      <th>Price</th>\n",
              "      <td>0.009530</td>\n",
              "      <td>0.019582</td>\n",
              "      <td>-0.022469</td>\n",
              "      <td>1.000000</td>\n",
              "      <td>-0.845111</td>\n",
              "      <td>-0.565016</td>\n",
              "      <td>0.293694</td>\n",
              "      <td>-0.020134</td>\n",
              "      <td>0.033081</td>\n",
              "      <td>0.165067</td>\n",
              "      <td>0.581198</td>\n",
              "    </tr>\n",
              "    <tr>\n",
              "      <th>Age</th>\n",
              "      <td>-0.014904</td>\n",
              "      <td>-0.049861</td>\n",
              "      <td>0.052357</td>\n",
              "      <td>-0.845111</td>\n",
              "      <td>1.000000</td>\n",
              "      <td>0.495199</td>\n",
              "      <td>-0.144271</td>\n",
              "      <td>0.020095</td>\n",
              "      <td>0.030931</td>\n",
              "      <td>-0.116255</td>\n",
              "      <td>-0.442055</td>\n",
              "    </tr>\n",
              "  </tbody>\n",
              "</table>\n",
              "</div>"
            ],
            "text/plain": [
              "             CNG    Diesel    Petrol  ...  Automatic        CC    Weight\n",
              "CNG     1.000000 -0.075549 -0.451151  ...  -0.001014 -0.020934  0.023011\n",
              "Diesel -0.075549  1.000000 -0.855813  ...  -0.064442  0.671415  0.490119\n",
              "Petrol -0.451151 -0.855813  1.000000  ...   0.058202 -0.590060 -0.450596\n",
              "Price   0.009530  0.019582 -0.022469  ...   0.033081  0.165067  0.581198\n",
              "Age    -0.014904 -0.049861  0.052357  ...   0.030931 -0.116255 -0.442055\n",
              "\n",
              "[5 rows x 11 columns]"
            ]
          },
          "metadata": {
            "tags": []
          },
          "execution_count": 291
        }
      ]
    },
    {
      "cell_type": "code",
      "metadata": {
        "id": "gPdkhYFuU5n1",
        "colab_type": "code",
        "colab": {
          "base_uri": "https://localhost:8080/",
          "height": 327
        },
        "outputId": "90eee1a7-8dc9-433d-e6d5-773dacba1144"
      },
      "source": [
        "#it is not considerind Doors.....why??\n",
        "sns.heatmap(corr)"
      ],
      "execution_count": 296,
      "outputs": [
        {
          "output_type": "execute_result",
          "data": {
            "text/plain": [
              "<matplotlib.axes._subplots.AxesSubplot at 0x7f05df17d860>"
            ]
          },
          "metadata": {
            "tags": []
          },
          "execution_count": 296
        },
        {
          "output_type": "display_data",
          "data": {
            "image/png": "[encoded data removed]",
            "text/plain": [
              "<Figure size 432x288 with 2 Axes>"
            ]
          },
          "metadata": {
            "tags": [],
            "needs_background": "light"
          }
        }
      ]
    },
    {
      "cell_type": "code",
      "metadata": {
        "id": "wq-HVDc5b_e_",
        "colab_type": "code",
        "colab": {}
      },
      "source": [
        "#taking >0.5 correlation for further calculation as correlation is less in dataset for further calculation\n",
        "columns = np.full((corr.shape[0],), True, dtype=bool)\n",
        "for i in range(corr.shape[0]):\n",
        "    for j in range(i+1, corr.shape[0]):\n",
        "        if corr.iloc[i,j] >= 0.5:\n",
        "            if columns[j]:\n",
        "                columns[j] = False"
      ],
      "execution_count": 303,
      "outputs": []
    },
    {
      "cell_type": "code",
      "metadata": {
        "id": "Eg9p5gSwaT0R",
        "colab_type": "code",
        "colab": {
          "base_uri": "https://localhost:8080/",
          "height": 34
        },
        "outputId": "af18e232-0350-4c7b-8591-86dc2e8c9235"
      },
      "source": [
        "d=datasets.drop(['Doors'], axis=1)\n",
        "selected_columns = d.columns[columns]\n",
        "selected_columns.shape"
      ],
      "execution_count": 304,
      "outputs": [
        {
          "output_type": "execute_result",
          "data": {
            "text/plain": [
              "(9,)"
            ]
          },
          "metadata": {
            "tags": []
          },
          "execution_count": 304
        }
      ]
    },
    {
      "cell_type": "code",
      "metadata": {
        "id": "RfXrPyE-cvm3",
        "colab_type": "code",
        "colab": {
          "base_uri": "https://localhost:8080/",
          "height": 255
        },
        "outputId": "b3bc3b7f-4081-4724-c2ca-bbd9ab2b8cf3"
      },
      "source": [
        "datasets = datasets[selected_columns]\n",
        "print(datasets)"
      ],
      "execution_count": 305,
      "outputs": [
        {
          "output_type": "stream",
          "text": [
            "      CNG  Diesel  Petrol  Price  ...            KM     HP      MetColor  Automatic\n",
            "0       0       1       0  13500  ...  46986.000000   90.0      1.000000          0\n",
            "1       0       1       0  13750  ...  72937.000000   90.0      1.000000          0\n",
            "2       0       1       0  13950  ...  41711.000000   90.0  68647.239972          0\n",
            "3       0       1       0  14950  ...  48000.000000   90.0      0.000000          0\n",
            "4       0       1       0  13750  ...  38500.000000   90.0      0.000000          0\n",
            "...   ...     ...     ...    ...  ...           ...    ...           ...        ...\n",
            "1431    0       0       1   7500  ...  20544.000000   86.0      1.000000          0\n",
            "1432    0       0       1  10845  ...  68647.239972   86.0      0.000000          0\n",
            "1433    0       0       1   8500  ...  17016.000000   86.0      0.000000          0\n",
            "1434    0       0       1   7250  ...  68647.239972   86.0      1.000000          0\n",
            "1435    0       0       1   6950  ...      1.000000  110.0      0.000000          0\n",
            "\n",
            "[1436 rows x 9 columns]\n"
          ],
          "name": "stdout"
        }
      ]
    }
  ]
}