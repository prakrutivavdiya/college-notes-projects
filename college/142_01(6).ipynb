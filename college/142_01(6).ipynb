{
  "nbformat": 4,
  "nbformat_minor": 0,
  "metadata": {
    "colab": {
      "name": "142_01.ipynb",
      "provenance": []
    },
    "kernelspec": {
      "name": "python3",
      "display_name": "Python 3"
    }
  },
  "cells": [
    {
      "cell_type": "markdown",
      "metadata": {
        "id": "kuzi1KiShwZF",
        "colab_type": "text"
      },
      "source": [
        "\n",
        "**LAB 6**\n",
        "\n",
        "**Exercise:**\n",
        "Try logistic regression on BuyComputer dataset and set Random state=Your_RollNumber (last 3 digit of ID, incase if you don't have ID)"
      ]
    },
    {
      "cell_type": "code",
      "metadata": {
        "id": "w-dl_i3Lh5E7",
        "colab_type": "code",
        "colab": {
          "base_uri": "https://localhost:8080/",
          "height": 204
        },
        "outputId": "cfbf14d6-7d72-4683-f636-3217f91a30a6"
      },
      "source": [
        "import numpy as np \n",
        "import pandas as pd \n",
        "import io\n",
        "import matplotlib.pyplot as plt\n",
        "\n",
        "data = pd.read_csv('/content/BuyComputer.csv')\n",
        "\n",
        "data.drop(columns=['User ID',],axis=1,inplace=True)\n",
        "data.head()"
      ],
      "execution_count": 35,
      "outputs": [
        {
          "output_type": "execute_result",
          "data": {
            "text/html": [
              "<div>\n",
              "<style scoped>\n",
              "    .dataframe tbody tr th:only-of-type {\n",
              "        vertical-align: middle;\n",
              "    }\n",
              "\n",
              "    .dataframe tbody tr th {\n",
              "        vertical-align: top;\n",
              "    }\n",
              "\n",
              "    .dataframe thead th {\n",
              "        text-align: right;\n",
              "    }\n",
              "</style>\n",
              "<table border=\"1\" class=\"dataframe\">\n",
              "  <thead>\n",
              "    <tr style=\"text-align: right;\">\n",
              "      <th></th>\n",
              "      <th>Age</th>\n",
              "      <th>EstimatedSalary</th>\n",
              "      <th>Purchased</th>\n",
              "    </tr>\n",
              "  </thead>\n",
              "  <tbody>\n",
              "    <tr>\n",
              "      <th>0</th>\n",
              "      <td>19</td>\n",
              "      <td>19000</td>\n",
              "      <td>0</td>\n",
              "    </tr>\n",
              "    <tr>\n",
              "      <th>1</th>\n",
              "      <td>35</td>\n",
              "      <td>20000</td>\n",
              "      <td>0</td>\n",
              "    </tr>\n",
              "    <tr>\n",
              "      <th>2</th>\n",
              "      <td>26</td>\n",
              "      <td>43000</td>\n",
              "      <td>0</td>\n",
              "    </tr>\n",
              "    <tr>\n",
              "      <th>3</th>\n",
              "      <td>27</td>\n",
              "      <td>57000</td>\n",
              "      <td>0</td>\n",
              "    </tr>\n",
              "    <tr>\n",
              "      <th>4</th>\n",
              "      <td>19</td>\n",
              "      <td>76000</td>\n",
              "      <td>0</td>\n",
              "    </tr>\n",
              "  </tbody>\n",
              "</table>\n",
              "</div>"
            ],
            "text/plain": [
              "   Age  EstimatedSalary  Purchased\n",
              "0   19            19000          0\n",
              "1   35            20000          0\n",
              "2   26            43000          0\n",
              "3   27            57000          0\n",
              "4   19            76000          0"
            ]
          },
          "metadata": {
            "tags": []
          },
          "execution_count": 35
        }
      ]
    },
    {
      "cell_type": "code",
      "metadata": {
        "id": "KypLqPm4irSY",
        "colab_type": "code",
        "colab": {}
      },
      "source": [
        "#Declare label as last column in the source file\n",
        "y = data.iloc[:,-1].values\n",
        "#Declaring X as all columns excluding last\n",
        "X = data.iloc[:,:-1].values\n",
        "\n",
        "#print(X)\n",
        "#print(y)"
      ],
      "execution_count": 36,
      "outputs": []
    },
    {
      "cell_type": "code",
      "metadata": {
        "id": "OQuO6c8fjX6_",
        "colab_type": "code",
        "colab": {}
      },
      "source": [
        "# Splitting\n",
        "from sklearn.model_selection import train_test_split\n",
        "X_train, X_test, y_train, y_test = train_test_split(X, y, test_size = 0.25, random_state = 142)\n",
        "\n",
        "# Sacaling\n",
        "from sklearn.preprocessing import StandardScaler\n",
        "sc = StandardScaler()\n",
        "X_train = sc.fit_transform(X_train)\n",
        "X_test = sc.transform(X_test)"
      ],
      "execution_count": 37,
      "outputs": []
    },
    {
      "cell_type": "code",
      "metadata": {
        "id": "HAkqkV85r7ng",
        "colab_type": "code",
        "colab": {
          "base_uri": "https://localhost:8080/",
          "height": 34
        },
        "outputId": "e4d0e908-8478-4913-9016-07559d052dd6"
      },
      "source": [
        "y_pred = []\n",
        "len_x = len(X_train[0])\n",
        "w = []\n",
        "b = 0.2\n",
        "print(len_x)"
      ],
      "execution_count": 38,
      "outputs": [
        {
          "output_type": "stream",
          "text": [
            "2\n"
          ],
          "name": "stdout"
        }
      ]
    },
    {
      "cell_type": "code",
      "metadata": {
        "id": "h6_R3cllsmcd",
        "colab_type": "code",
        "colab": {
          "base_uri": "https://localhost:8080/",
          "height": 51
        },
        "outputId": "0fed69cd-19c0-40f3-a7a8-7782d338e2f3"
      },
      "source": [
        "entries = len(X_train[:,0])\n",
        "print(entries)\n",
        "\n",
        "for weights in range(len_x):\n",
        "    w.append(0)\n",
        "print(w)"
      ],
      "execution_count": 39,
      "outputs": [
        {
          "output_type": "stream",
          "text": [
            "300\n",
            "[0, 0]\n"
          ],
          "name": "stdout"
        }
      ]
    },
    {
      "cell_type": "code",
      "metadata": {
        "id": "QRuQeOe6s0xb",
        "colab_type": "code",
        "colab": {}
      },
      "source": [
        "def sigmoid(z):\n",
        "    return (1/(1+np.exp(-z)))\n",
        "\n",
        "def predict(inputs):\n",
        "    z = np.dot(w,inputs)+b\n",
        "    a = sigmoid(z)\n",
        "    return a\n",
        "\n",
        "def loss_func(y,a):\n",
        "    J = -(y*np.log(a) + (1-y)*np.log(1-a))\n",
        "    return J "
      ],
      "execution_count": 40,
      "outputs": []
    },
    {
      "cell_type": "code",
      "metadata": {
        "id": "McROnhmzs1J4",
        "colab_type": "code",
        "colab": {}
      },
      "source": [
        "dw = []\n",
        "db = 0\n",
        "J = 0\n",
        "alpha = 0.1\n",
        "for x in range(len_x):\n",
        "    dw.append(0)"
      ],
      "execution_count": 41,
      "outputs": []
    },
    {
      "cell_type": "code",
      "metadata": {
        "id": "HJdzHX6as1Yi",
        "colab_type": "code",
        "colab": {}
      },
      "source": [
        "#Repeating this process 1000 times\n",
        "for iterations in range(1000):\n",
        "    for i in range(entries):\n",
        "        localx = X_train[i]\n",
        "        a = predict(localx)   \n",
        "        dz = a - y_train[i]\n",
        "        J += loss_func(y_train[i],a)\n",
        "        for j in range(len_x):\n",
        "            dw[j] = dw[j]+(localx[j]*dz)\n",
        "        db += dz\n",
        "    J = J/entries\n",
        "    db = db/entries \n",
        "    for x in range(len_x):\n",
        "        dw[x]=dw[x]/entries\n",
        "    for x in range(len_x):\n",
        "        w[x] = w[x]-(alpha*dw[x])\n",
        "    b = b-(alpha*db)         \n",
        "    J=0"
      ],
      "execution_count": 42,
      "outputs": []
    },
    {
      "cell_type": "code",
      "metadata": {
        "id": "a3Rj3o16t7og",
        "colab_type": "code",
        "colab": {
          "base_uri": "https://localhost:8080/",
          "height": 51
        },
        "outputId": "3bb816b3-1e13-4db1-d3af-567214d18c09"
      },
      "source": [
        "print(w)\n",
        "print(b)"
      ],
      "execution_count": 43,
      "outputs": [
        {
          "output_type": "stream",
          "text": [
            "[2.6355669936878874, 1.2284767892702433]\n",
            "-1.0771011981687983\n"
          ],
          "name": "stdout"
        }
      ]
    },
    {
      "cell_type": "code",
      "metadata": {
        "id": "Gh_JH34UuF1I",
        "colab_type": "code",
        "colab": {}
      },
      "source": [
        "#predicting the label\n",
        "for x in range(len(y_test)):\n",
        "    y_pred.append(predict(X_test[x]))"
      ],
      "execution_count": 44,
      "outputs": []
    },
    {
      "cell_type": "code",
      "metadata": {
        "id": "hxlYIA98uGxe",
        "colab_type": "code",
        "colab": {
          "base_uri": "https://localhost:8080/",
          "height": 1000
        },
        "outputId": "ec138b0e-03d5-4cff-9557-15daf93fb942"
      },
      "source": [
        "#print actual and predicted values in a table\n",
        "for x in range(len(y_pred)):\n",
        "    print('Actual ',y_test[x],' Predicted ',y_pred[x])\n",
        "    if y_pred[x]>=0.5:\n",
        "        y_pred[x]=1\n",
        "    else:\n",
        "        y_pred[x]=0"
      ],
      "execution_count": 45,
      "outputs": [
        {
          "output_type": "stream",
          "text": [
            "Actual  1  Predicted  0.9954477084502079\n",
            "Actual  1  Predicted  0.3240367250153078\n",
            "Actual  0  Predicted  0.03804568266154107\n",
            "Actual  0  Predicted  0.8678893628458585\n",
            "Actual  0  Predicted  0.31985325345521864\n",
            "Actual  0  Predicted  0.2984339774813584\n",
            "Actual  0  Predicted  0.0012031264992434063\n",
            "Actual  0  Predicted  0.7418892599276976\n",
            "Actual  0  Predicted  0.7405764560549165\n",
            "Actual  0  Predicted  0.003519618527671478\n",
            "Actual  1  Predicted  0.9412091969462254\n",
            "Actual  0  Predicted  0.059531739186979835\n",
            "Actual  0  Predicted  0.0029630981164464314\n",
            "Actual  0  Predicted  0.24849748869757482\n",
            "Actual  0  Predicted  0.02427707951499051\n",
            "Actual  0  Predicted  0.4936465241743478\n",
            "Actual  1  Predicted  0.5367486862106229\n",
            "Actual  0  Predicted  0.050305812598315326\n",
            "Actual  0  Predicted  0.32194142036122786\n",
            "Actual  1  Predicted  0.4469136943994363\n",
            "Actual  0  Predicted  0.036646768639387435\n",
            "Actual  0  Predicted  0.005407849028272063\n",
            "Actual  1  Predicted  0.5096805322863863\n",
            "Actual  0  Predicted  0.26904418782495\n",
            "Actual  1  Predicted  0.27703980881386964\n",
            "Actual  0  Predicted  0.0026410606109589074\n",
            "Actual  1  Predicted  0.9514134569535365\n",
            "Actual  0  Predicted  0.002450466338703705\n",
            "Actual  0  Predicted  0.004399015556754297\n",
            "Actual  0  Predicted  0.026663542900902996\n",
            "Actual  0  Predicted  0.07501430631975593\n",
            "Actual  1  Predicted  0.9597863564640177\n",
            "Actual  0  Predicted  0.5991377254603795\n",
            "Actual  0  Predicted  0.4489447487653265\n",
            "Actual  0  Predicted  0.03819626426648979\n",
            "Actual  0  Predicted  0.03417624895322313\n",
            "Actual  0  Predicted  0.0006045784146139398\n",
            "Actual  0  Predicted  0.006446829494107568\n",
            "Actual  1  Predicted  0.3326183471199308\n",
            "Actual  0  Predicted  0.09447121358706008\n",
            "Actual  0  Predicted  0.4486061195728278\n",
            "Actual  1  Predicted  0.888512212584732\n",
            "Actual  0  Predicted  0.12259699039413076\n",
            "Actual  0  Predicted  0.10084521739862946\n",
            "Actual  0  Predicted  0.07501430631975593\n",
            "Actual  1  Predicted  0.3791897941158939\n",
            "Actual  1  Predicted  0.7693472356351628\n",
            "Actual  1  Predicted  0.9987479851876083\n",
            "Actual  1  Predicted  0.9674201820795184\n",
            "Actual  0  Predicted  0.8724402111387103\n",
            "Actual  0  Predicted  0.22293995766090136\n",
            "Actual  0  Predicted  0.1425806276686564\n",
            "Actual  0  Predicted  0.20403639016658362\n",
            "Actual  1  Predicted  0.7577690001770833\n",
            "Actual  0  Predicted  0.004554127016971811\n",
            "Actual  0  Predicted  0.004860963624473335\n",
            "Actual  0  Predicted  0.0009010484906925063\n",
            "Actual  0  Predicted  0.05394707883221033\n",
            "Actual  0  Predicted  0.43967481399833663\n",
            "Actual  0  Predicted  0.013699564024998216\n",
            "Actual  0  Predicted  0.02430952636651579\n",
            "Actual  0  Predicted  0.055751446346558646\n",
            "Actual  0  Predicted  0.12244981970421391\n",
            "Actual  0  Predicted  0.0013335582809467835\n",
            "Actual  0  Predicted  0.005087411114455209\n",
            "Actual  1  Predicted  0.9801096298757461\n",
            "Actual  0  Predicted  0.2909150456306235\n",
            "Actual  1  Predicted  0.38047961245370066\n",
            "Actual  1  Predicted  0.5546843444292209\n",
            "Actual  1  Predicted  0.9940954156301087\n",
            "Actual  1  Predicted  0.40307506943908533\n",
            "Actual  0  Predicted  0.9912227813967265\n",
            "Actual  0  Predicted  0.0006976938607882772\n",
            "Actual  0  Predicted  0.0023668342295633557\n",
            "Actual  0  Predicted  0.32194142036122786\n",
            "Actual  0  Predicted  0.10772968853835205\n",
            "Actual  1  Predicted  0.9451584479184649\n",
            "Actual  0  Predicted  0.007200144220545985\n",
            "Actual  0  Predicted  0.14723264189983243\n",
            "Actual  0  Predicted  0.01897414587261145\n",
            "Actual  1  Predicted  0.3075189655166428\n",
            "Actual  0  Predicted  0.09773246866122626\n",
            "Actual  1  Predicted  0.8226397825845715\n",
            "Actual  1  Predicted  0.9187207240380215\n",
            "Actual  0  Predicted  0.024881867985903545\n",
            "Actual  1  Predicted  0.21673546913501845\n",
            "Actual  1  Predicted  0.6919840372309739\n",
            "Actual  1  Predicted  0.6163842450992859\n",
            "Actual  1  Predicted  0.36010088799069345\n",
            "Actual  1  Predicted  0.5833066512215003\n",
            "Actual  0  Predicted  0.01828772561152434\n",
            "Actual  0  Predicted  0.01889785491881847\n",
            "Actual  1  Predicted  0.9866964996656186\n",
            "Actual  1  Predicted  0.5866300198863112\n",
            "Actual  0  Predicted  0.3880676884075185\n",
            "Actual  0  Predicted  0.9834578322375367\n",
            "Actual  0  Predicted  0.024051131134035827\n",
            "Actual  0  Predicted  0.3237369610375424\n",
            "Actual  1  Predicted  0.9810333906161756\n",
            "Actual  0  Predicted  0.4138001946700178\n"
          ],
          "name": "stdout"
        }
      ]
    },
    {
      "cell_type": "code",
      "metadata": {
        "id": "f0KzGDCpuG4H",
        "colab_type": "code",
        "colab": {
          "base_uri": "https://localhost:8080/",
          "height": 34
        },
        "outputId": "0e646b4a-1124-46b1-db47-67bf9f630f4b"
      },
      "source": [
        "# Calculating accuracy\n",
        "count = 0\n",
        "for x in range(len(y_pred)):\n",
        "    if(y_pred[x]==y_test[x]):\n",
        "        count=count+1\n",
        "print('Accuracy:',(count/(len(y_pred)))*100)"
      ],
      "execution_count": 46,
      "outputs": [
        {
          "output_type": "stream",
          "text": [
            "Accuracy: 83.0\n"
          ],
          "name": "stdout"
        }
      ]
    },
    {
      "cell_type": "code",
      "metadata": {
        "id": "1tJgEn3FugN2",
        "colab_type": "code",
        "colab": {
          "base_uri": "https://localhost:8080/",
          "height": 661
        },
        "outputId": "2de16076-ac89-41ef-a5d2-beb9e5b385ad"
      },
      "source": [
        "# Fitting Logistic Regression to the Training set\n",
        "from sklearn.linear_model import LogisticRegression\n",
        "LR = LogisticRegression(random_state = 0)\n",
        "LR.fit(X_train, y_train)\n",
        "\n",
        "#predicting the test label with LR. Predict always takes X as input\n",
        "y_pred=LR.predict(X_test)\n",
        "\n",
        "#Accuracy Calculation:\n",
        "#Compare accuracy of Sklearn with your previous output\n",
        "\n",
        "# Visualising the Training set results\n",
        "from matplotlib.colors import ListedColormap\n",
        "X_set, y_set = X_train, y_train\n",
        "X1, X2 = np.meshgrid(np.arange(start = X_set[:, 0].min() - 1, stop = X_set[:, 0].max() + 1, step = 0.01),\n",
        "                     np.arange(start = X_set[:, 1].min() - 1, stop = X_set[:, 1].max() + 1, step = 0.01))\n",
        "plt.contourf(X1, X2, LR.predict(np.array([X1.ravel(), X2.ravel()]).T).reshape(X1.shape),\n",
        "             alpha = 0.75, cmap = ListedColormap(('red', 'green')))\n",
        "plt.xlim(X1.min(), X1.max())\n",
        "plt.ylim(X2.min(), X2.max())\n",
        "for i, j in enumerate(np.unique(y_set)):\n",
        "    plt.scatter(X_set[y_set == j, 0], X_set[y_set == j, 1],\n",
        "                c = ListedColormap(('red', 'green'))(i), label = j)\n",
        "plt.title('Logistic Regression (Training set)')\n",
        "plt.xlabel('Age')\n",
        "plt.ylabel('Estimated Salary')\n",
        "plt.legend()\n",
        "plt.show()\n",
        "\n",
        "# Visualising the Test set results\n",
        "from matplotlib.colors import ListedColormap\n",
        "X_set, y_set = X_test, y_test\n",
        "X1, X2 = np.meshgrid(np.arange(start = X_set[:, 0].min() - 1, stop = X_set[:, 0].max() + 1, step = 0.01),\n",
        "                     np.arange(start = X_set[:, 1].min() - 1, stop = X_set[:, 1].max() + 1, step = 0.01))\n",
        "plt.contourf(X1, X2, LR.predict(np.array([X1.ravel(), X2.ravel()]).T).reshape(X1.shape),\n",
        "             alpha = 0.75, cmap = ListedColormap(('red', 'green')))\n",
        "plt.xlim(X1.min(), X1.max())\n",
        "plt.ylim(X2.min(), X2.max())\n",
        "for i, j in enumerate(np.unique(y_set)):\n",
        "    plt.scatter(X_set[y_set == j, 0], X_set[y_set == j, 1],\n",
        "                c = ListedColormap(('red', 'green'))(i), label = j)\n",
        "plt.title('Logistic Regression (Test set)')\n",
        "plt.xlabel('Age')\n",
        "plt.ylabel('Estimated Salary')\n",
        "plt.legend()\n",
        "plt.show()"
      ],
      "execution_count": 47,
      "outputs": [
        {
          "output_type": "stream",
          "text": [
            "*c* argument looks like a single numeric RGB or RGBA sequence, which should be avoided as value-mapping will have precedence in case its length matches with *x* & *y*.  Please use the *color* keyword-argument or provide a 2-D array with a single row if you intend to specify the same RGB or RGBA value for all points.\n",
            "*c* argument looks like a single numeric RGB or RGBA sequence, which should be avoided as value-mapping will have precedence in case its length matches with *x* & *y*.  Please use the *color* keyword-argument or provide a 2-D array with a single row if you intend to specify the same RGB or RGBA value for all points.\n"
          ],
          "name": "stderr"
        },
        {
          "output_type": "display_data",
          "data": {
            "image/png": "[encoded data removed]",
            "text/plain": [
              "<Figure size 432x288 with 1 Axes>"
            ]
          },
          "metadata": {
            "tags": [],
            "needs_background": "light"
          }
        },
        {
          "output_type": "stream",
          "text": [
            "*c* argument looks like a single numeric RGB or RGBA sequence, which should be avoided as value-mapping will have precedence in case its length matches with *x* & *y*.  Please use the *color* keyword-argument or provide a 2-D array with a single row if you intend to specify the same RGB or RGBA value for all points.\n",
            "*c* argument looks like a single numeric RGB or RGBA sequence, which should be avoided as value-mapping will have precedence in case its length matches with *x* & *y*.  Please use the *color* keyword-argument or provide a 2-D array with a single row if you intend to specify the same RGB or RGBA value for all points.\n"
          ],
          "name": "stderr"
        },
        {
          "output_type": "display_data",
          "data": {
            "image/png": "[encoded data removed]",
            "text/plain": [
              "<Figure size 432x288 with 1 Axes>"
            ]
          },
          "metadata": {
            "tags": [],
            "needs_background": "light"
          }
        }
      ]
    }
  ]
}