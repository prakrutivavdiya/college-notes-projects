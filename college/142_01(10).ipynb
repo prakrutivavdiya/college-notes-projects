{
  "nbformat": 4,
  "nbformat_minor": 0,
  "metadata": {
    "colab": {
      "name": "Untitled",
      "provenance": []
    },
    "kernelspec": {
      "name": "python3",
      "display_name": "Python 3"
    }
  },
  "cells": [
    {
      "cell_type": "code",
      "metadata": {
        "id": "gwn7rNnCbWEV",
        "colab_type": "code",
        "colab": {}
      },
      "source": [
        "import numpy as np\n",
        "import pandas as pd\n",
        "import matplotlib.pyplot as plt"
      ],
      "execution_count": 21,
      "outputs": []
    },
    {
      "cell_type": "code",
      "metadata": {
        "id": "1p70l5FIbZMr",
        "colab_type": "code",
        "colab": {
          "base_uri": "https://localhost:8080/",
          "height": 425
        },
        "outputId": "e2f53b3b-02f9-484c-e195-9e40d49392ed"
      },
      "source": [
        "data=pd.read_csv('Data_for_Transformation.csv')\n",
        "#data info\n",
        "print(data.info())\n",
        "print(data)"
      ],
      "execution_count": 22,
      "outputs": [
        {
          "output_type": "stream",
          "text": [
            "<class 'pandas.core.frame.DataFrame'>\n",
            "RangeIndex: 11 entries, 0 to 10\n",
            "Data columns (total 4 columns):\n",
            " #   Column     Non-Null Count  Dtype \n",
            "---  ------     --------------  ----- \n",
            " 0   Country    11 non-null     object\n",
            " 1   Age        11 non-null     int64 \n",
            " 2   Salary     11 non-null     int64 \n",
            " 3   Purchased  11 non-null     object\n",
            "dtypes: int64(2), object(2)\n",
            "memory usage: 480.0+ bytes\n",
            "None\n",
            "    Country  Age  Salary Purchased\n",
            "0    France   44   72000        No\n",
            "1     Spain   27   48000       Yes\n",
            "2   Germany   30   54000        No\n",
            "3     Spain   38   61000        No\n",
            "4   Germany   40   68000       Yes\n",
            "5    France   35   58000       Yes\n",
            "6     Spain   39   52000        No\n",
            "7    France   48   79000       Yes\n",
            "8   Germany   50   83000        No\n",
            "9    France   37   67000       Yes\n",
            "10    Spain   45   55000        No\n"
          ],
          "name": "stdout"
        }
      ]
    },
    {
      "cell_type": "code",
      "metadata": {
        "id": "keD6HP2tbZcx",
        "colab_type": "code",
        "colab": {
          "base_uri": "https://localhost:8080/",
          "height": 265
        },
        "outputId": "999fabdd-c45d-4937-cd37-53f3a5a3a85e"
      },
      "source": [
        "#scatter chart\n",
        "plt.scatter(data['Age'],data['Salary']) \n",
        "plt.show()"
      ],
      "execution_count": 23,
      "outputs": [
        {
          "output_type": "display_data",
          "data": {
            "image/png": "[encoded data removed]",
            "text/plain": [
              "<Figure size 432x288 with 1 Axes>"
            ]
          },
          "metadata": {
            "tags": [],
            "needs_background": "light"
          }
        }
      ]
    },
    {
      "cell_type": "code",
      "metadata": {
        "id": "iPMeqK4UbZ3N",
        "colab_type": "code",
        "colab": {
          "base_uri": "https://localhost:8080/",
          "height": 265
        },
        "outputId": "56f9daca-f187-4927-b9a8-58ce365bbdf4"
      },
      "source": [
        "#histogram\n",
        "plt.hist(data['Salary'],bins=6) #bins = num of columns you want\n",
        "plt.show()"
      ],
      "execution_count": 24,
      "outputs": [
        {
          "output_type": "display_data",
          "data": {
            "image/png": "[encoded data removed]",
            "text/plain": [
              "<Figure size 432x288 with 1 Axes>"
            ]
          },
          "metadata": {
            "tags": [],
            "needs_background": "light"
          }
        }
      ]
    },
    {
      "cell_type": "code",
      "metadata": {
        "id": "3Dqs1xailjXw",
        "colab_type": "code",
        "colab": {
          "base_uri": "https://localhost:8080/",
          "height": 318
        },
        "outputId": "0f76c2e8-dd5e-4e32-f93a-e88618071151"
      },
      "source": [
        "data['Country'].value_counts()[:20].plot(kind='bar') #bar chart as per number of occurance"
      ],
      "execution_count": 25,
      "outputs": [
        {
          "output_type": "execute_result",
          "data": {
            "text/plain": [
              "<matplotlib.axes._subplots.AxesSubplot at 0x7fc88e89bfd0>"
            ]
          },
          "metadata": {
            "tags": []
          },
          "execution_count": 25
        },
        {
          "output_type": "display_data",
          "data": {
            "image/png": "[encoded data removed]",
            "text/plain": [
              "<Figure size 432x288 with 1 Axes>"
            ]
          },
          "metadata": {
            "tags": [],
            "needs_background": "light"
          }
        }
      ]
    }
  ]
}