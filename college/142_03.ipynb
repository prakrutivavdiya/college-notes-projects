{
  "nbformat": 4,
  "nbformat_minor": 0,
  "metadata": {
    "colab": {
      "name": "lab1_2.ipynb",
      "provenance": []
    },
    "kernelspec": {
      "name": "python3",
      "display_name": "Python 3"
    }
  },
  "cells": [
    {
      "cell_type": "code",
      "metadata": {
        "id": "Q_spOMI5CDBr",
        "colab_type": "code",
        "colab": {
          "base_uri": "https://localhost:8080/",
          "height": 119
        },
        "outputId": "3ca735bb-a5cd-4adc-f63d-202cd36e50a8"
      },
      "source": [
        "import numpy as np\n",
        "#1) Create Two numpy array of size 3 X 2 and 2 X 3\n",
        "#2) Randomly Initalize that array\n",
        "a = np.array([[1, 2, 5], [3, 4, 8]])\n",
        "b = np.array([[7, 3], [2, 8], [5,1]])\n",
        "print(a)\n",
        "print()\n",
        "print(b)"
      ],
      "execution_count": 3,
      "outputs": [
        {
          "output_type": "stream",
          "text": [
            "[[1 2 5]\n",
            " [3 4 8]]\n",
            "\n",
            "[[7 3]\n",
            " [2 8]\n",
            " [5 1]]\n"
          ],
          "name": "stdout"
        }
      ]
    },
    {
      "cell_type": "code",
      "metadata": {
        "id": "HPw0MtqQD-YV",
        "colab_type": "code",
        "colab": {
          "base_uri": "https://localhost:8080/",
          "height": 119
        },
        "outputId": "a0a230c0-19ed-43e1-b383-3a46adbf2e9e"
      },
      "source": [
        "#3) Perform matrix multiplication\n",
        "x = np.dot(b, a)\n",
        "y = np.dot(a, b)\n",
        "print(x)\n",
        "print()\n",
        "print(y)"
      ],
      "execution_count": 4,
      "outputs": [
        {
          "output_type": "stream",
          "text": [
            "[[16 26 59]\n",
            " [26 36 74]\n",
            " [ 8 14 33]]\n",
            "\n",
            "[[36 24]\n",
            " [69 49]]\n"
          ],
          "name": "stdout"
        }
      ]
    },
    {
      "cell_type": "code",
      "metadata": {
        "id": "m8yamZ7MElIa",
        "colab_type": "code",
        "colab": {
          "base_uri": "https://localhost:8080/",
          "height": 231
        },
        "outputId": "13981677-25fc-4ac7-c698-68f4265d23b0"
      },
      "source": [
        "#4) Perform elementwise matrix multiplication\n",
        "#it will produce error as parameters are not of same size\n",
        "p=a*b\n",
        "q=b*a\n",
        "print(p)\n",
        "print()\n",
        "print(q)"
      ],
      "execution_count": 5,
      "outputs": [
        {
          "output_type": "error",
          "ename": "ValueError",
          "evalue": "ignored",
          "traceback": [
            "\u001b[0;31m---------------------------------------------------------------------------\u001b[0m",
            "\u001b[0;31mValueError\u001b[0m                                Traceback (most recent call last)",
            "\u001b[0;32m<ipython-input-5-2bcf1e372ac6>\u001b[0m in \u001b[0;36m<module>\u001b[0;34m()\u001b[0m\n\u001b[1;32m      1\u001b[0m \u001b[0;31m#4) Perform elementwise matrix multiplication\u001b[0m\u001b[0;34m\u001b[0m\u001b[0;34m\u001b[0m\u001b[0;34m\u001b[0m\u001b[0m\n\u001b[0;32m----> 2\u001b[0;31m \u001b[0mp\u001b[0m\u001b[0;34m=\u001b[0m\u001b[0ma\u001b[0m\u001b[0;34m*\u001b[0m\u001b[0mb\u001b[0m\u001b[0;34m\u001b[0m\u001b[0;34m\u001b[0m\u001b[0m\n\u001b[0m\u001b[1;32m      3\u001b[0m \u001b[0mq\u001b[0m\u001b[0;34m=\u001b[0m\u001b[0mb\u001b[0m\u001b[0;34m*\u001b[0m\u001b[0ma\u001b[0m\u001b[0;34m\u001b[0m\u001b[0;34m\u001b[0m\u001b[0m\n\u001b[1;32m      4\u001b[0m \u001b[0mprint\u001b[0m\u001b[0;34m(\u001b[0m\u001b[0mp\u001b[0m\u001b[0;34m)\u001b[0m\u001b[0;34m\u001b[0m\u001b[0;34m\u001b[0m\u001b[0m\n\u001b[1;32m      5\u001b[0m \u001b[0mprint\u001b[0m\u001b[0;34m(\u001b[0m\u001b[0;34m)\u001b[0m\u001b[0;34m\u001b[0m\u001b[0;34m\u001b[0m\u001b[0m\n",
            "\u001b[0;31mValueError\u001b[0m: operands could not be broadcast together with shapes (2,3) (3,2) "
          ]
        }
      ]
    },
    {
      "cell_type": "code",
      "metadata": {
        "id": "YPvB8vtRFFIX",
        "colab_type": "code",
        "colab": {
          "base_uri": "https://localhost:8080/",
          "height": 119
        },
        "outputId": "60350edf-d47d-42a4-ca52-79ae1640f360"
      },
      "source": [
        "#but we can perform multiplication of them with another matrix of same size or scalers\n",
        "p = np.array([[1,1,2],[2,2,6]])\n",
        "print(p*a)\n",
        "print()\n",
        "print(5*b)"
      ],
      "execution_count": 6,
      "outputs": [
        {
          "output_type": "stream",
          "text": [
            "[[ 1  2 10]\n",
            " [ 6  8 48]]\n",
            "\n",
            "[[35 15]\n",
            " [10 40]\n",
            " [25  5]]\n"
          ],
          "name": "stdout"
        }
      ]
    },
    {
      "cell_type": "code",
      "metadata": {
        "id": "7smc7ou2Eljg",
        "colab_type": "code",
        "colab": {
          "base_uri": "https://localhost:8080/",
          "height": 102
        },
        "outputId": "e887674c-9213-40a3-a445-cfd69c45fcb1"
      },
      "source": [
        "#5) Find mean of first matrix\n",
        "mean = np.mean(b)\n",
        "meanByCols = np.mean(b, axis=0)\n",
        "meanByRows = np.mean(b, axis=1)\n",
        "print('mean',mean)\n",
        "print()\n",
        "print('meanByCols',meanByCols)\n",
        "print()\n",
        "print('meanByRows',meanByRows)"
      ],
      "execution_count": 8,
      "outputs": [
        {
          "output_type": "stream",
          "text": [
            "mean 4.333333333333333\n",
            "\n",
            "meanByCols [4.66666667 4.        ]\n",
            "\n",
            "meanByRows [5. 5. 3.]\n"
          ],
          "name": "stdout"
        }
      ]
    },
    {
      "cell_type": "code",
      "metadata": {
        "id": "Knwcgf2iFvDR",
        "colab_type": "code",
        "colab": {
          "base_uri": "https://localhost:8080/",
          "height": 1000
        },
        "outputId": "4bebe19d-328c-4b23-e9c7-0ebe35f6c209"
      },
      "source": [
        "#6) Convert Numeric entries(columns) of mtcars.csv to Mean Centered Version\n",
        "import pandas as pd\n",
        "a=pd.read_csv('/content/mtcars.csv')\n",
        "print(a)\n",
        "a['mpg'] = a['mpg'] - np.mean(a['mpg'], axis=0)\n",
        "a['cyl'] = a['cyl'] - np.mean(a['cyl'], axis=0)\n",
        "a['disp'] = a['disp'] - np.mean(a['disp'], axis=0)\n",
        "a['hp'] = a['hp'] - np.mean(a['hp'], axis=0)\n",
        "a['drat'] = a['drat'] - np.mean(a['drat'], axis=0)\n",
        "a['wt'] = a['wt'] - np.mean(a['wt'], axis=0)\n",
        "a['qsec'] = a['qsec'] - np.mean(a['qsec'], axis=0)\n",
        "a['vs'] = a['vs'] - np.mean(a['vs'], axis=0)\n",
        "a['am'] = a['am'] - np.mean(a['am'], axis=0)\n",
        "a['gear'] = a['gear'] - np.mean(a['gear'], axis=0)\n",
        "a['carb'] = a['carb'] - np.mean(a['carb'], axis=0)\n",
        "print()\n",
        "print(a)"
      ],
      "execution_count": 15,
      "outputs": [
        {
          "output_type": "stream",
          "text": [
            "                  model   mpg  cyl   disp   hp  ...   qsec  vs  am  gear  carb\n",
            "0             Mazda RX4  21.0    6  160.0  110  ...  16.46   0   1     4     4\n",
            "1         Mazda RX4 Wag  21.0    6  160.0  110  ...  17.02   0   1     4     4\n",
            "2            Datsun 710  22.8    4  108.0   93  ...  18.61   1   1     4     1\n",
            "3        Hornet 4 Drive  21.4    6  258.0  110  ...  19.44   1   0     3     1\n",
            "4     Hornet Sportabout  18.7    8  360.0  175  ...  17.02   0   0     3     2\n",
            "5               Valiant  18.1    6  225.0  105  ...  20.22   1   0     3     1\n",
            "6            Duster 360  14.3    8  360.0  245  ...  15.84   0   0     3     4\n",
            "7             Merc 240D  24.4    4  146.7   62  ...  20.00   1   0     4     2\n",
            "8              Merc 230  22.8    4  140.8   95  ...  22.90   1   0     4     2\n",
            "9              Merc 280  19.2    6  167.6  123  ...  18.30   1   0     4     4\n",
            "10            Merc 280C  17.8    6  167.6  123  ...  18.90   1   0     4     4\n",
            "11           Merc 450SE  16.4    8  275.8  180  ...  17.40   0   0     3     3\n",
            "12           Merc 450SL  17.3    8  275.8  180  ...  17.60   0   0     3     3\n",
            "13          Merc 450SLC  15.2    8  275.8  180  ...  18.00   0   0     3     3\n",
            "14   Cadillac Fleetwood  10.4    8  472.0  205  ...  17.98   0   0     3     4\n",
            "15  Lincoln Continental  10.4    8  460.0  215  ...  17.82   0   0     3     4\n",
            "16    Chrysler Imperial  14.7    8  440.0  230  ...  17.42   0   0     3     4\n",
            "17             Fiat 128  32.4    4   78.7   66  ...  19.47   1   1     4     1\n",
            "18          Honda Civic  30.4    4   75.7   52  ...  18.52   1   1     4     2\n",
            "19       Toyota Corolla  33.9    4   71.1   65  ...  19.90   1   1     4     1\n",
            "20        Toyota Corona  21.5    4  120.1   97  ...  20.01   1   0     3     1\n",
            "21     Dodge Challenger  15.5    8  318.0  150  ...  16.87   0   0     3     2\n",
            "22          AMC Javelin  15.2    8  304.0  150  ...  17.30   0   0     3     2\n",
            "23           Camaro Z28  13.3    8  350.0  245  ...  15.41   0   0     3     4\n",
            "24     Pontiac Firebird  19.2    8  400.0  175  ...  17.05   0   0     3     2\n",
            "25            Fiat X1-9  27.3    4   79.0   66  ...  18.90   1   1     4     1\n",
            "26        Porsche 914-2  26.0    4  120.3   91  ...  16.70   0   1     5     2\n",
            "27         Lotus Europa  30.4    4   95.1  113  ...  16.90   1   1     5     2\n",
            "28       Ford Pantera L  15.8    8  351.0  264  ...  14.50   0   1     5     4\n",
            "29         Ferrari Dino  19.7    6  145.0  175  ...  15.50   0   1     5     6\n",
            "30        Maserati Bora  15.0    8  301.0  335  ...  14.60   0   1     5     8\n",
            "31           Volvo 142E  21.4    4  121.0  109  ...  18.60   1   1     4     2\n",
            "\n",
            "[32 rows x 12 columns]\n",
            "\n",
            "                  model        mpg     cyl  ...       am    gear    carb\n",
            "0             Mazda RX4   0.909375 -0.1875  ...  0.59375  0.3125  1.1875\n",
            "1         Mazda RX4 Wag   0.909375 -0.1875  ...  0.59375  0.3125  1.1875\n",
            "2            Datsun 710   2.709375 -2.1875  ...  0.59375  0.3125 -1.8125\n",
            "3        Hornet 4 Drive   1.309375 -0.1875  ... -0.40625 -0.6875 -1.8125\n",
            "4     Hornet Sportabout  -1.390625  1.8125  ... -0.40625 -0.6875 -0.8125\n",
            "5               Valiant  -1.990625 -0.1875  ... -0.40625 -0.6875 -1.8125\n",
            "6            Duster 360  -5.790625  1.8125  ... -0.40625 -0.6875  1.1875\n",
            "7             Merc 240D   4.309375 -2.1875  ... -0.40625  0.3125 -0.8125\n",
            "8              Merc 230   2.709375 -2.1875  ... -0.40625  0.3125 -0.8125\n",
            "9              Merc 280  -0.890625 -0.1875  ... -0.40625  0.3125  1.1875\n",
            "10            Merc 280C  -2.290625 -0.1875  ... -0.40625  0.3125  1.1875\n",
            "11           Merc 450SE  -3.690625  1.8125  ... -0.40625 -0.6875  0.1875\n",
            "12           Merc 450SL  -2.790625  1.8125  ... -0.40625 -0.6875  0.1875\n",
            "13          Merc 450SLC  -4.890625  1.8125  ... -0.40625 -0.6875  0.1875\n",
            "14   Cadillac Fleetwood  -9.690625  1.8125  ... -0.40625 -0.6875  1.1875\n",
            "15  Lincoln Continental  -9.690625  1.8125  ... -0.40625 -0.6875  1.1875\n",
            "16    Chrysler Imperial  -5.390625  1.8125  ... -0.40625 -0.6875  1.1875\n",
            "17             Fiat 128  12.309375 -2.1875  ...  0.59375  0.3125 -1.8125\n",
            "18          Honda Civic  10.309375 -2.1875  ...  0.59375  0.3125 -0.8125\n",
            "19       Toyota Corolla  13.809375 -2.1875  ...  0.59375  0.3125 -1.8125\n",
            "20        Toyota Corona   1.409375 -2.1875  ... -0.40625 -0.6875 -1.8125\n",
            "21     Dodge Challenger  -4.590625  1.8125  ... -0.40625 -0.6875 -0.8125\n",
            "22          AMC Javelin  -4.890625  1.8125  ... -0.40625 -0.6875 -0.8125\n",
            "23           Camaro Z28  -6.790625  1.8125  ... -0.40625 -0.6875  1.1875\n",
            "24     Pontiac Firebird  -0.890625  1.8125  ... -0.40625 -0.6875 -0.8125\n",
            "25            Fiat X1-9   7.209375 -2.1875  ...  0.59375  0.3125 -1.8125\n",
            "26        Porsche 914-2   5.909375 -2.1875  ...  0.59375  1.3125 -0.8125\n",
            "27         Lotus Europa  10.309375 -2.1875  ...  0.59375  1.3125 -0.8125\n",
            "28       Ford Pantera L  -4.290625  1.8125  ...  0.59375  1.3125  1.1875\n",
            "29         Ferrari Dino  -0.390625 -0.1875  ...  0.59375  1.3125  3.1875\n",
            "30        Maserati Bora  -5.090625  1.8125  ...  0.59375  1.3125  5.1875\n",
            "31           Volvo 142E   1.309375 -2.1875  ...  0.59375  0.3125 -0.8125\n",
            "\n",
            "[32 rows x 12 columns]\n"
          ],
          "name": "stdout"
        }
      ]
    }
  ]
}