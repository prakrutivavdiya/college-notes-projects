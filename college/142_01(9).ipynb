{
  "nbformat": 4,
  "nbformat_minor": 0,
  "metadata": {
    "colab": {
      "name": "142_01.ipynb",
      "provenance": [],
      "toc_visible": true
    },
    "kernelspec": {
      "name": "python3",
      "display_name": "Python 3"
    }
  },
  "cells": [
    {
      "cell_type": "markdown",
      "metadata": {
        "id": "mlbcMlVHFwKt",
        "colab_type": "text"
      },
      "source": [
        "Exercise (given with NB_classifier_weather file)\n",
        "######(1) Will you play if the temperature is 'Hot' and weather is 'overcast'?\n",
        "\n",
        "######(2) Will you play if the temperature is 'Mild' and weather is 'Sunny'?"
      ]
    },
    {
      "cell_type": "code",
      "metadata": {
        "id": "JijvDJXEF53Z",
        "colab_type": "code",
        "colab": {
          "base_uri": "https://localhost:8080/",
          "height": 68
        },
        "outputId": "4369e49a-cf76-4f23-a6e0-418a3cb72d47"
      },
      "source": [
        "from sklearn import preprocessing\n",
        "from sklearn.naive_bayes import GaussianNB, MultinomialNB\n",
        "weather = ['Sunny', 'Sunny', 'Overcast', 'Rainy', 'Rainy','Rainy', 'Overcast',\n",
        "           'Sunny', 'Sunny', 'Rainy', 'Sunny', 'Overcast', 'Overcast', 'Rainy']\n",
        "\n",
        "temp = ['Hot','Hot','Hot','Mild','Cool','Cool','Cool','Mild',\n",
        "        'Cool','Mild','Mild','Mild','Hot','Mild']\n",
        "\n",
        "play=['No','No','Yes','Yes','Yes','No','Yes','No','Yes',\n",
        "      'Yes','Yes','Yes','Yes','No']\n",
        "\n",
        "le = preprocessing.LabelEncoder()\n",
        "weather_encoded=le.fit_transform(weather)\n",
        "\n",
        "temp_encoded=le.fit_transform(temp)\n",
        "label=le.fit_transform(play)\n",
        "\n",
        "features=tuple(zip(weather_encoded,temp_encoded))\n",
        "print(\"Features:\",features)\n",
        "\n",
        "model=MultinomialNB()\n",
        "model.fit(features,label)\n",
        "\n",
        "predicted= model.predict([[0,1]]) # 0:Overcast, 1:Hot\n",
        "print(\"Predicted Value:\", predicted)\n",
        "\n",
        "predicted= model.predict([[2,2]]) # 2:Sunny, 2:Mild\n",
        "print(\"Predicted Value:\", predicted)"
      ],
      "execution_count": 102,
      "outputs": [
        {
          "output_type": "stream",
          "text": [
            "Features: ((2, 1), (2, 1), (0, 1), (1, 2), (1, 0), (1, 0), (0, 0), (2, 2), (2, 0), (1, 2), (2, 2), (0, 2), (0, 1), (1, 2))\n",
            "Predicted Value: [1]\n",
            "Predicted Value: [1]\n"
          ],
          "name": "stdout"
        }
      ]
    },
    {
      "cell_type": "markdown",
      "metadata": {
        "id": "V5eN0oCPHC_D",
        "colab_type": "text"
      },
      "source": [
        "#Task 1: Try the algo on Dataset3 - LabelEncoding of features:and Train test Division 95%-5%\n"
      ]
    },
    {
      "cell_type": "code",
      "metadata": {
        "id": "Cpm4dGHaHayQ",
        "colab_type": "code",
        "colab": {
          "base_uri": "https://localhost:8080/",
          "height": 782
        },
        "outputId": "09b7e724-ce4f-43c6-be01-baa0b7df115a"
      },
      "source": [
        "#task 1\n",
        "#Import scikit-learn dataset library\n",
        "import pandas as pd\n",
        "from sklearn import datasets\n",
        "from sklearn.naive_bayes import GaussianNB\n",
        "# Import label encoder \n",
        "from sklearn import preprocessing \n",
        "\n",
        "df = pd.read_csv('/content/Dataset3.csv') \n",
        "  \n",
        "#creating labelEncoder\n",
        "le = preprocessing.LabelEncoder()\n",
        "\n",
        "# Converting string labels into numbers.\n",
        "df['Outlook']=le.fit_transform(df['Outlook'])\n",
        "print(\"Outlook:\" ,df['Outlook'])\n",
        "\n",
        "df['Temp']=le.fit_transform(df['Temp'])\n",
        "print(\"Temp:\" ,df['Temp'])\n",
        "\n",
        "df['Wind']=le.fit_transform(df['Wind'])\n",
        "print(\"Wind:\" ,df['Wind'])"
      ],
      "execution_count": 103,
      "outputs": [
        {
          "output_type": "stream",
          "text": [
            "Outlook: 0     1\n",
            "1     1\n",
            "2     0\n",
            "3     1\n",
            "4     2\n",
            "5     0\n",
            "6     0\n",
            "7     1\n",
            "8     0\n",
            "9     2\n",
            "10    1\n",
            "11    0\n",
            "12    0\n",
            "13    2\n",
            "Name: Outlook, dtype: int64\n",
            "Temp: 0     1\n",
            "1     1\n",
            "2     1\n",
            "3     2\n",
            "4     0\n",
            "5     0\n",
            "6     0\n",
            "7     2\n",
            "8     0\n",
            "9     2\n",
            "10    0\n",
            "11    2\n",
            "12    1\n",
            "13    2\n",
            "Name: Temp, dtype: int64\n",
            "Wind: 0     0\n",
            "1     1\n",
            "2     0\n",
            "3     0\n",
            "4     0\n",
            "5     1\n",
            "6     1\n",
            "7     0\n",
            "8     0\n",
            "9     0\n",
            "10    1\n",
            "11    1\n",
            "12    0\n",
            "13    1\n",
            "Name: Wind, dtype: int64\n"
          ],
          "name": "stdout"
        }
      ]
    },
    {
      "cell_type": "code",
      "metadata": {
        "id": "bZU2sh4lJsA3",
        "colab_type": "code",
        "colab": {
          "base_uri": "https://localhost:8080/",
          "height": 54
        },
        "outputId": "ebecca9d-ac64-4911-f05e-21ace87dd809"
      },
      "source": [
        "#Combinig weather and temp into single listof tuples\n",
        "features=tuple(zip(df['Outlook'],df['Temp'],df['Wind'],df['Humidity']))\n",
        "print(\"Features:\",features)"
      ],
      "execution_count": 104,
      "outputs": [
        {
          "output_type": "stream",
          "text": [
            "Features: ((1, 1, 0, 1), (1, 1, 1, 2), (0, 1, 0, 1), (1, 2, 0, 1), (2, 0, 0, 1), (0, 0, 1, 0), (0, 0, 1, 1), (1, 2, 0, 1), (0, 0, 0, 0), (2, 2, 0, 2), (1, 0, 1, 2), (0, 2, 1, 0), (0, 1, 0, 1), (2, 2, 1, 1))\n"
          ],
          "name": "stdout"
        }
      ]
    },
    {
      "cell_type": "code",
      "metadata": {
        "id": "DT_AOKz0nVrl",
        "colab_type": "code",
        "colab": {
          "base_uri": "https://localhost:8080/",
          "height": 51
        },
        "outputId": "1f7d19b3-e46f-42f3-cc6a-918f2f9fb0f2"
      },
      "source": [
        "#(1) What will be the value of Play, if Outlook is ’Rainy’, Temperature is ’Mild’, Humidity =’Normal’, and Wind = ’False’?\n",
        "\n",
        "model=MultinomialNB()\n",
        "model.fit(features,label)\n",
        "predicted= model.predict([[1,2,0,1]])\n",
        "print(\"Predicted Value:\", predicted)\n",
        "#(2) What will be the value of Play, if Outlook is ’Sunny’, Temeprature is ’Cool’, Humidity =’High’, and Wind = ’True’?\n",
        "predicted= model.predict([[2,0,2,1]])\n",
        "print(\"Predicted Value:\", predicted)"
      ],
      "execution_count": 105,
      "outputs": [
        {
          "output_type": "stream",
          "text": [
            "Predicted Value: [1]\n",
            "Predicted Value: [1]\n"
          ],
          "name": "stdout"
        }
      ]
    },
    {
      "cell_type": "code",
      "metadata": {
        "id": "sBTikO6_RTsW",
        "colab_type": "code",
        "colab": {
          "base_uri": "https://localhost:8080/",
          "height": 612
        },
        "outputId": "00c2e46d-19c7-432f-a6d4-0d566a644382"
      },
      "source": [
        "#import the necessary module\n",
        "from sklearn.model_selection import train_test_split\n",
        "\n",
        "#split data set into train and test sets\n",
        "data=df[df.columns[0:4]]\n",
        "data_train, data_test, target_train, target_test = train_test_split(data,\n",
        "                        df['Class'], test_size = 0.05, random_state = 142)\n",
        "\n",
        "print(data_train)\n",
        "print('--------------')\n",
        "print(target_train)\n",
        "print('--------------')\n",
        "print(data_test)\n",
        "print('--------------')\n",
        "print(target_test)"
      ],
      "execution_count": 106,
      "outputs": [
        {
          "output_type": "stream",
          "text": [
            "    Outlook  Temp  Wind  Humidity\n",
            "8         0     0     0         0\n",
            "9         2     2     0         2\n",
            "7         1     2     0         1\n",
            "3         1     2     0         1\n",
            "4         2     0     0         1\n",
            "2         0     1     0         1\n",
            "12        0     1     0         1\n",
            "1         1     1     1         2\n",
            "0         1     1     0         1\n",
            "10        1     0     1         2\n",
            "11        0     2     1         0\n",
            "13        2     2     1         1\n",
            "5         0     0     1         0\n",
            "--------------\n",
            "8     1\n",
            "9     1\n",
            "7     0\n",
            "3     1\n",
            "4     1\n",
            "2     1\n",
            "12    1\n",
            "1     0\n",
            "0     0\n",
            "10    0\n",
            "11    1\n",
            "13    0\n",
            "5     0\n",
            "Name: Class, dtype: int64\n",
            "--------------\n",
            "   Outlook  Temp  Wind  Humidity\n",
            "6        0     0     1         1\n",
            "--------------\n",
            "6    1\n",
            "Name: Class, dtype: int64\n"
          ],
          "name": "stdout"
        }
      ]
    },
    {
      "cell_type": "code",
      "metadata": {
        "id": "O3sUV-pYW-on",
        "colab_type": "code",
        "colab": {
          "base_uri": "https://localhost:8080/",
          "height": 51
        },
        "outputId": "c7a4dbd4-2080-4972-d7d3-80ec55e99622"
      },
      "source": [
        "import numpy as np\n",
        "gnb = GaussianNB()\n",
        "\n",
        "#Train the model using the training sets\n",
        "gnb.fit(data_train, target_train)\n",
        "\n",
        "#Predict the response for test dataset\n",
        "target_pred = gnb.predict(data_test)\n",
        "print(target_pred)\n",
        "#Import scikit-learn metrics module for accuracy calculation\n",
        "from sklearn import metrics\n",
        "\n",
        "# Model Accuracy, how often is the classifier correct?\n",
        "print(\"Accuracy:\",metrics.accuracy_score(target_test, target_pred))"
      ],
      "execution_count": 107,
      "outputs": [
        {
          "output_type": "stream",
          "text": [
            "[0]\n",
            "Accuracy: 0.0\n"
          ],
          "name": "stdout"
        }
      ]
    },
    {
      "cell_type": "code",
      "metadata": {
        "id": "P7hIKKlLZBWi",
        "colab_type": "code",
        "colab": {
          "base_uri": "https://localhost:8080/",
          "height": 51
        },
        "outputId": "50ced6a0-78d1-437b-f400-fedd3f249069"
      },
      "source": [
        "#Import confusion_matrix from scikit-learn metrics module for confusion_matrix\n",
        "\n",
        "from sklearn.metrics import confusion_matrix\n",
        "confusion_matrix(target_test, target_pred)"
      ],
      "execution_count": 108,
      "outputs": [
        {
          "output_type": "execute_result",
          "data": {
            "text/plain": [
              "array([[0, 0],\n",
              "       [1, 0]])"
            ]
          },
          "metadata": {
            "tags": []
          },
          "execution_count": 108
        }
      ]
    },
    {
      "cell_type": "code",
      "metadata": {
        "id": "y1BXcCttZiZi",
        "colab_type": "code",
        "colab": {
          "base_uri": "https://localhost:8080/",
          "height": 139
        },
        "outputId": "2cbc41f8-fd26-4e95-b585-f22987b0a7f3"
      },
      "source": [
        "from sklearn.metrics import precision_score\n",
        "from sklearn.metrics import recall_score\n",
        "\n",
        "precision = precision_score(target_test, target_pred, average=None)\n",
        "recall = recall_score(target_test, target_pred, average=None)\n",
        "\n",
        "print('precision: {}'.format(precision))\n",
        "print('recall: {}'.format(recall))"
      ],
      "execution_count": 109,
      "outputs": [
        {
          "output_type": "stream",
          "text": [
            "precision: [0. 0.]\n",
            "recall: [0. 0.]\n"
          ],
          "name": "stdout"
        },
        {
          "output_type": "stream",
          "text": [
            "/usr/local/lib/python3.6/dist-packages/sklearn/metrics/_classification.py:1272: UndefinedMetricWarning: Precision is ill-defined and being set to 0.0 in labels with no predicted samples. Use `zero_division` parameter to control this behavior.\n",
            "  _warn_prf(average, modifier, msg_start, len(result))\n",
            "/usr/local/lib/python3.6/dist-packages/sklearn/metrics/_classification.py:1272: UndefinedMetricWarning: Recall is ill-defined and being set to 0.0 in labels with no true samples. Use `zero_division` parameter to control this behavior.\n",
            "  _warn_prf(average, modifier, msg_start, len(result))\n"
          ],
          "name": "stderr"
        }
      ]
    }
  ]
}