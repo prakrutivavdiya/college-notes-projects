{
  "nbformat": 4,
  "nbformat_minor": 0,
  "metadata": {
    "colab": {
      "name": "ml_lab2_assignment.ipynb",
      "provenance": []
    },
    "kernelspec": {
      "name": "python3",
      "display_name": "Python 3"
    }
  },
  "cells": [
    {
      "cell_type": "code",
      "metadata": {
        "id": "rIZbqXxvY_5X",
        "colab_type": "code",
        "colab": {}
      },
      "source": [
        "import nltk                                # Python library for NLP\n",
        "import matplotlib.pyplot as plt            # library for visualization\n",
        "import random                              # pseudo-random number generator\n",
        "data=pd.read_csv('/content/datasets_3901_6113_sms_spam.csv')"
      ],
      "execution_count": 12,
      "outputs": []
    },
    {
      "cell_type": "code",
      "metadata": {
        "id": "GShO-EvcaJMS",
        "colab_type": "code",
        "colab": {}
      },
      "source": [
        "a=data.loc[data['type'] == 'spam']\n",
        "b=data.loc[data['type'] == 'ham']"
      ],
      "execution_count": 19,
      "outputs": []
    },
    {
      "cell_type": "code",
      "metadata": {
        "id": "LOaialPnexAh",
        "colab_type": "code",
        "colab": {
          "base_uri": "https://localhost:8080/",
          "height": 102
        },
        "outputId": "1d28417f-240d-453c-d541-e7e0654c8576"
      },
      "source": [
        "print('Number of spam sms: ', len(a))\n",
        "print('Number of ham sms: ', len(b))\n",
        "\n",
        "print('\\nThe type of a is: ', type(a))\n",
        "print('The type of an sms entry is: ', type(a.iloc[0]))"
      ],
      "execution_count": 22,
      "outputs": [
        {
          "output_type": "stream",
          "text": [
            "Number of spam sms:  747\n",
            "Number of ham sms:  4812\n",
            "\n",
            "The type of a is:  <class 'pandas.core.frame.DataFrame'>\n",
            "The type of an sms entry is:  <class 'pandas.core.series.Series'>\n"
          ],
          "name": "stdout"
        }
      ]
    },
    {
      "cell_type": "code",
      "metadata": {
        "id": "rMTpGzvCexKw",
        "colab_type": "code",
        "colab": {
          "base_uri": "https://localhost:8080/",
          "height": 303
        },
        "outputId": "ae584c91-46c1-4053-ac45-1b57ce64598f"
      },
      "source": [
        "fig = plt.figure(figsize=(5, 5))\n",
        "\n",
        "labels = 'spam','ham'\n",
        "\n",
        "sizes = [len(a),len(b)] \n",
        "\n",
        "# Declare pie chart, where the slices will be ordered and plotted counter-clockwise:\n",
        "plt.pie(sizes, labels=labels, autopct='%.2f%%',\n",
        "        shadow=True, startangle=90)\n",
        "\n",
        "plt.axis('equal')  \n",
        "plt.show()"
      ],
      "execution_count": 24,
      "outputs": [
        {
          "output_type": "display_data",
          "data": {
            "image/png": "[encoded data removed]",
            "text/plain": [
              "<Figure size 360x360 with 1 Axes>"
            ]
          },
          "metadata": {
            "tags": []
          }
        }
      ]
    },
    {
      "cell_type": "code",
      "metadata": {
        "id": "fi3bJXV4hsKu",
        "colab_type": "code",
        "colab": {
          "base_uri": "https://localhost:8080/",
          "height": 51
        },
        "outputId": "6e76a5c5-5685-440a-f5ae-b3232b55b5e0"
      },
      "source": [
        "print('\\033[91m'+'spam     :' + a.iloc[random.randint(0,700)].text)\n",
        "print('\\033[92m' + 'ham      :' + b.iloc[random.randint(0,700)].text)"
      ],
      "execution_count": 33,
      "outputs": [
        {
          "output_type": "stream",
          "text": [
            "\u001b[91mspam     :Claim a 200 shopping spree, just call 08717895698 now! Have you won! MobStoreQuiz10ppm\n",
            "\u001b[92mham      :Ok.ok ok..then..whats ur todays plan\n"
          ],
          "name": "stdout"
        }
      ]
    },
    {
      "cell_type": "code",
      "metadata": {
        "id": "jdMXuRUflj-l",
        "colab_type": "code",
        "colab": {
          "base_uri": "https://localhost:8080/",
          "height": 54
        },
        "outputId": "4a64e008-c21e-4f07-b8c2-ee4ddddd8ecd"
      },
      "source": [
        "# Our selected sample\n",
        "sample_spam=a.iloc[random.randint(0,700)].text\n",
        "print(sample_spam)"
      ],
      "execution_count": 34,
      "outputs": [
        {
          "output_type": "stream",
          "text": [
            "Todays Voda numbers ending 7548 are selected to receive a $350 award. If you have a match please call 08712300220 quoting claim code 4041 standard rates app\n"
          ],
          "name": "stdout"
        }
      ]
    },
    {
      "cell_type": "code",
      "metadata": {
        "id": "HAIEMrPcmGdq",
        "colab_type": "code",
        "colab": {
          "base_uri": "https://localhost:8080/",
          "height": 68
        },
        "outputId": "0d9ef909-aeb0-4af5-ef2c-a4023f47f528"
      },
      "source": [
        "\n",
        "# download the stopwords from NLTK\n",
        "nltk.download('stopwords')"
      ],
      "execution_count": 36,
      "outputs": [
        {
          "output_type": "stream",
          "text": [
            "[nltk_data] Downloading package stopwords to /root/nltk_data...\n",
            "[nltk_data]   Unzipping corpora/stopwords.zip.\n"
          ],
          "name": "stdout"
        },
        {
          "output_type": "execute_result",
          "data": {
            "text/plain": [
              "True"
            ]
          },
          "metadata": {
            "tags": []
          },
          "execution_count": 36
        }
      ]
    },
    {
      "cell_type": "code",
      "metadata": {
        "id": "V0aZIQDmmcXU",
        "colab_type": "code",
        "colab": {}
      },
      "source": [
        "import re                                  # library for regular expression operations\n",
        "import string                              # for string operations\n",
        "\n",
        "from nltk.corpus import stopwords          # module for stop words that come with NLTK\n",
        "from nltk.stem import PorterStemmer        # module for stemming\n",
        "from nltk.tokenize import TweetTokenizer   # module for tokenizing strings"
      ],
      "execution_count": 37,
      "outputs": []
    },
    {
      "cell_type": "code",
      "metadata": {
        "id": "VUzVrGpaon-a",
        "colab_type": "code",
        "colab": {
          "base_uri": "https://localhost:8080/",
          "height": 88
        },
        "outputId": "db8cede1-15ca-4d70-dbfc-e78212cef13d"
      },
      "source": [
        "print('\\033[92m' + sample_spam)\n",
        "print('\\033[94m')\n",
        "\n",
        "# remove hyperlinks\n",
        "sample_spam2 = re.sub(r'(\\$)*[0-9](\\.[0-9]+)?', '', sample_spam)\n",
        "\n",
        "\n",
        "print(sample_spam2)"
      ],
      "execution_count": 57,
      "outputs": [
        {
          "output_type": "stream",
          "text": [
            "\u001b[92mTodays Voda numbers ending 7548 are selected to receive a $350 award. If you have a match please call 08712300220 quoting claim code 4041 standard rates app\n",
            "\u001b[94m\n",
            "Todays Voda numbers ending  are selected to receive a  award. If you have a match please call  quoting claim code  standard rates app\n"
          ],
          "name": "stdout"
        }
      ]
    },
    {
      "cell_type": "code",
      "metadata": {
        "id": "tpbuAt-FpzNI",
        "colab_type": "code",
        "colab": {
          "base_uri": "https://localhost:8080/",
          "height": 139
        },
        "outputId": "cadd9922-46d5-4ee5-ce95-24f3617504fd"
      },
      "source": [
        "print()\n",
        "print('\\033[92m' + sample_spam2)\n",
        "print('\\033[94m')\n",
        "\n",
        "# instantiate tokenizer class\n",
        "tokenizer = TweetTokenizer(preserve_case=False)\n",
        "\n",
        "# tokenize tweets\n",
        "sms_tokens = tokenizer.tokenize(sample_spam2)\n",
        "\n",
        "print()\n",
        "print('Tokenized string:')\n",
        "print(sms_tokens)"
      ],
      "execution_count": 58,
      "outputs": [
        {
          "output_type": "stream",
          "text": [
            "\n",
            "\u001b[92mTodays Voda numbers ending  are selected to receive a  award. If you have a match please call  quoting claim code  standard rates app\n",
            "\u001b[94m\n",
            "\n",
            "Tokenized string:\n",
            "['todays', 'voda', 'numbers', 'ending', 'are', 'selected', 'to', 'receive', 'a', 'award', '.', 'if', 'you', 'have', 'a', 'match', 'please', 'call', 'quoting', 'claim', 'code', 'standard', 'rates', 'app']\n"
          ],
          "name": "stdout"
        }
      ]
    },
    {
      "cell_type": "code",
      "metadata": {
        "id": "LjvhgaeLqL6t",
        "colab_type": "code",
        "colab": {
          "base_uri": "https://localhost:8080/",
          "height": 156
        },
        "outputId": "96be9b68-bb45-4cd7-8b2e-229dc3d5a490"
      },
      "source": [
        "#Import the english stop words list from NLTK\n",
        "stopwords_english = stopwords.words('english') \n",
        "\n",
        "print('Stop words\\n')\n",
        "print(stopwords_english)\n",
        "\n",
        "print('\\nPunctuation\\n')\n",
        "print(string.punctuation)"
      ],
      "execution_count": 59,
      "outputs": [
        {
          "output_type": "stream",
          "text": [
            "Stop words\n",
            "\n",
            "['i', 'me', 'my', 'myself', 'we', 'our', 'ours', 'ourselves', 'you', \"you're\", \"you've\", \"you'll\", \"you'd\", 'your', 'yours', 'yourself', 'yourselves', 'he', 'him', 'his', 'himself', 'she', \"she's\", 'her', 'hers', 'herself', 'it', \"it's\", 'its', 'itself', 'they', 'them', 'their', 'theirs', 'themselves', 'what', 'which', 'who', 'whom', 'this', 'that', \"that'll\", 'these', 'those', 'am', 'is', 'are', 'was', 'were', 'be', 'been', 'being', 'have', 'has', 'had', 'having', 'do', 'does', 'did', 'doing', 'a', 'an', 'the', 'and', 'but', 'if', 'or', 'because', 'as', 'until', 'while', 'of', 'at', 'by', 'for', 'with', 'about', 'against', 'between', 'into', 'through', 'during', 'before', 'after', 'above', 'below', 'to', 'from', 'up', 'down', 'in', 'out', 'on', 'off', 'over', 'under', 'again', 'further', 'then', 'once', 'here', 'there', 'when', 'where', 'why', 'how', 'all', 'any', 'both', 'each', 'few', 'more', 'most', 'other', 'some', 'such', 'no', 'nor', 'not', 'only', 'own', 'same', 'so', 'than', 'too', 'very', 's', 't', 'can', 'will', 'just', 'don', \"don't\", 'should', \"should've\", 'now', 'd', 'll', 'm', 'o', 're', 've', 'y', 'ain', 'aren', \"aren't\", 'couldn', \"couldn't\", 'didn', \"didn't\", 'doesn', \"doesn't\", 'hadn', \"hadn't\", 'hasn', \"hasn't\", 'haven', \"haven't\", 'isn', \"isn't\", 'ma', 'mightn', \"mightn't\", 'mustn', \"mustn't\", 'needn', \"needn't\", 'shan', \"shan't\", 'shouldn', \"shouldn't\", 'wasn', \"wasn't\", 'weren', \"weren't\", 'won', \"won't\", 'wouldn', \"wouldn't\"]\n",
            "\n",
            "Punctuation\n",
            "\n",
            "!\"#$%&'()*+,-./:;<=>?@[\\]^_`{|}~\n"
          ],
          "name": "stdout"
        }
      ]
    },
    {
      "cell_type": "code",
      "metadata": {
        "id": "qiWRtmoHq-AX",
        "colab_type": "code",
        "colab": {
          "base_uri": "https://localhost:8080/",
          "height": 139
        },
        "outputId": "856aad6f-56fb-411c-c45a-070b811c643d"
      },
      "source": [
        "print()\n",
        "print('\\033[92m')\n",
        "print(sms_tokens)\n",
        "print('\\033[94m')\n",
        "\n",
        "sms_clean = []\n",
        "\n",
        "for word in sms_tokens: # Go through every word in your tokens list\n",
        "    if (word not in stopwords_english and  # remove stopwords\n",
        "        word not in string.punctuation):  # remove punctuation\n",
        "        sms_clean.append(word)\n",
        "\n",
        "print('removed stop words and punctuation:')\n",
        "print(sms_clean)"
      ],
      "execution_count": 60,
      "outputs": [
        {
          "output_type": "stream",
          "text": [
            "\n",
            "\u001b[92m\n",
            "['todays', 'voda', 'numbers', 'ending', 'are', 'selected', 'to', 'receive', 'a', 'award', '.', 'if', 'you', 'have', 'a', 'match', 'please', 'call', 'quoting', 'claim', 'code', 'standard', 'rates', 'app']\n",
            "\u001b[94m\n",
            "removed stop words and punctuation:\n",
            "['todays', 'voda', 'numbers', 'ending', 'selected', 'receive', 'award', 'match', 'please', 'call', 'quoting', 'claim', 'code', 'standard', 'rates', 'app']\n"
          ],
          "name": "stdout"
        }
      ]
    },
    {
      "cell_type": "code",
      "metadata": {
        "id": "gRsj_Z51rrN1",
        "colab_type": "code",
        "colab": {
          "base_uri": "https://localhost:8080/",
          "height": 139
        },
        "outputId": "c88edf91-efaa-4ada-e23b-c706509a06e0"
      },
      "source": [
        "print()\n",
        "print('\\033[92m')\n",
        "print(sms_clean)\n",
        "print('\\033[94m')\n",
        "\n",
        "# Instantiate stemming class\n",
        "stemmer = PorterStemmer() \n",
        "\n",
        "# Create an empty list to store the stems\n",
        "sms_stem = [] \n",
        "\n",
        "for word in sms_clean:\n",
        "    stem_word = stemmer.stem(word)  # stemming word\n",
        "    sms_stem.append(stem_word)  # append to the list\n",
        "\n",
        "print('stemmed words:')\n",
        "print(sms_stem)"
      ],
      "execution_count": 62,
      "outputs": [
        {
          "output_type": "stream",
          "text": [
            "\n",
            "\u001b[92m\n",
            "['todays', 'voda', 'numbers', 'ending', 'selected', 'receive', 'award', 'match', 'please', 'call', 'quoting', 'claim', 'code', 'standard', 'rates', 'app']\n",
            "\u001b[94m\n",
            "stemmed words:\n",
            "['today', 'voda', 'number', 'end', 'select', 'receiv', 'award', 'match', 'pleas', 'call', 'quot', 'claim', 'code', 'standard', 'rate', 'app']\n"
          ],
          "name": "stdout"
        }
      ]
    }
  ]
}