{
  "nbformat": 4,
  "nbformat_minor": 0,
  "metadata": {
    "colab": {
      "name": "142_01.ipynb",
      "provenance": []
    },
    "kernelspec": {
      "name": "python3",
      "display_name": "Python 3"
    }
  },
  "cells": [
    {
      "cell_type": "markdown",
      "metadata": {
        "id": "9MAZshmrKDAg",
        "colab_type": "text"
      },
      "source": [
        "**LAB 7**"
      ]
    },
    {
      "cell_type": "markdown",
      "metadata": {
        "id": "GcTB3HCHKDQb",
        "colab_type": "text"
      },
      "source": [
        "**AIM:**Manual version of Logistic Regression with TF based version."
      ]
    },
    {
      "cell_type": "code",
      "metadata": {
        "id": "8UwV0rEEJ-rF",
        "colab_type": "code",
        "colab": {}
      },
      "source": [
        "import numpy as np \n",
        "import pandas as pd \n",
        "import tensorflow.compat.v1 as tf \n",
        "import matplotlib.pyplot as plt\n",
        "from sklearn.model_selection import train_test_split \n",
        "from nltk.corpus import twitter_samples\n",
        "import nltk\n",
        "tf.disable_v2_behavior()"
      ],
      "execution_count": 54,
      "outputs": []
    },
    {
      "cell_type": "code",
      "metadata": {
        "id": "rvYOlja7K4oT",
        "colab_type": "code",
        "colab": {
          "base_uri": "https://localhost:8080/",
          "height": 85
        },
        "outputId": "22249ebc-6041-4be4-ab82-aef3a5b5102b"
      },
      "source": [
        "nltk.download('twitter_samples')\n",
        "nltk.download('stopwords')\n",
        "\n",
        "import re\n",
        "import string\n",
        "import numpy as np\n",
        "\n",
        "from nltk.corpus import stopwords\n",
        "from nltk.stem import PorterStemmer\n",
        "from nltk.tokenize import TweetTokenizer"
      ],
      "execution_count": 55,
      "outputs": [
        {
          "output_type": "stream",
          "text": [
            "[nltk_data] Downloading package twitter_samples to /root/nltk_data...\n",
            "[nltk_data]   Package twitter_samples is already up-to-date!\n",
            "[nltk_data] Downloading package stopwords to /root/nltk_data...\n",
            "[nltk_data]   Package stopwords is already up-to-date!\n"
          ],
          "name": "stdout"
        }
      ]
    },
    {
      "cell_type": "code",
      "metadata": {
        "id": "Busiwb32LRcm",
        "colab_type": "code",
        "colab": {}
      },
      "source": [
        "#process tweet function\n",
        "def process_tweet(tweet):\n",
        "    stemmer = PorterStemmer()\n",
        "    stopwords_english = stopwords.words('english')\n",
        "\n",
        "    # remove stock market tickers like $GE\n",
        "    tweet = re.sub(r'\\$\\w*', '', tweet)\n",
        "    # remove old style retweet text \"RT\"\n",
        "    tweet = re.sub(r'^RT[\\s]+', '', tweet)\n",
        "    # remove hyperlinks\n",
        "    tweet = re.sub(r'https?:\\/\\/.*[\\r\\n]*', '', tweet)\n",
        "    # remove hashtags\n",
        "    # only removing the hash # sign from the word\n",
        "    tweet = re.sub(r'#', '', tweet)\n",
        "    # tokenize tweets\n",
        "\n",
        "\n",
        "    tokenizer = TweetTokenizer(preserve_case=False, strip_handles=True,\n",
        "                               reduce_len=True)\n",
        "    tweet_tokens = tokenizer.tokenize(tweet)\n",
        "\n",
        "    tweets_clean = []\n",
        "    for word in tweet_tokens:\n",
        "            if (word not in stopwords_english and  word not in string.punctuation): \n",
        "                  stem_words=stemmer.stem(word)\n",
        "\n",
        "                  tweets_clean.append(stem_words)\n",
        "    return tweets_clean"
      ],
      "execution_count": 56,
      "outputs": []
    },
    {
      "cell_type": "code",
      "metadata": {
        "id": "wDWJ4oO8LXB5",
        "colab_type": "code",
        "colab": {}
      },
      "source": [
        "def build_freqs(tweets, ys):\n",
        "    yslist = np.squeeze(ys).tolist()\n",
        "    freqs = {}\n",
        "    for y, tweet in zip(yslist, tweets):\n",
        "        for word in process_tweet(tweet):\n",
        "            pair = (word, y)\n",
        "            if pair not in freqs:\n",
        "              freqs[pair]=0\n",
        "            \n",
        "            freqs[pair]+=1\n",
        "\n",
        "    return freqs"
      ],
      "execution_count": 57,
      "outputs": []
    },
    {
      "cell_type": "code",
      "metadata": {
        "id": "VyjelurRLYmY",
        "colab_type": "code",
        "colab": {}
      },
      "source": [
        "#prepare data\n",
        "all_positive_tweets = twitter_samples.strings('positive_tweets.json')\n",
        "all_negative_tweets = twitter_samples.strings('negative_tweets.json')\n",
        "\n",
        "data=all_positive_tweets+all_negative_tweets\n",
        "d=np.append(np.ones((len(all_positive_tweets), 1)), np.zeros((len(all_negative_tweets), 1)), axis=0)\n",
        "\n",
        "train_x,test_x,train_y,test_y=train_test_split(data,d,test_size=0.25,random_state=142)"
      ],
      "execution_count": 58,
      "outputs": []
    },
    {
      "cell_type": "code",
      "metadata": {
        "id": "yaZl9v-fLmp0",
        "colab_type": "code",
        "colab": {
          "base_uri": "https://localhost:8080/",
          "height": 51
        },
        "outputId": "ed304241-dc9b-4fe1-ceff-02ba196fe38b"
      },
      "source": [
        "freqs = build_freqs(train_x,train_y)\n",
        "\n",
        "# check the output\n",
        "print(\"type(freqs) = \" + str(type(freqs)))\n",
        "print(\"len(freqs) = \" + str(len(freqs.keys())))"
      ],
      "execution_count": 59,
      "outputs": [
        {
          "output_type": "stream",
          "text": [
            "type(freqs) = <class 'dict'>\n",
            "len(freqs) = 10859\n"
          ],
          "name": "stdout"
        }
      ]
    },
    {
      "cell_type": "code",
      "metadata": {
        "id": "OmGHttw4LuBx",
        "colab_type": "code",
        "colab": {
          "base_uri": "https://localhost:8080/",
          "height": 34
        },
        "outputId": "a6cb6073-f6d7-4d24-e6b1-69b25adfa23a"
      },
      "source": [
        "#Logistic regression using TF\n",
        "\n",
        "#extract feature function\n",
        "def extract_features(tweet,freqs):\n",
        "  word1=process_tweet(tweet)\n",
        "  x=np.zeros((1,2))\n",
        "  for word in word1:\n",
        "    if((word,1) in freqs):\n",
        "      x[0,0]+=freqs[word,1]\n",
        "    if((word,0) in freqs):\n",
        "      x[0,1]+=freqs[word,0] \n",
        "  assert(x.shape==(1,2))\n",
        "  return x[0]\n",
        "\n",
        "tmp1=extract_features(train_x[0],freqs)\n",
        "print(tmp1)"
      ],
      "execution_count": 60,
      "outputs": [
        {
          "output_type": "stream",
          "text": [
            "[ 312. 3949.]\n"
          ],
          "name": "stdout"
        }
      ]
    },
    {
      "cell_type": "code",
      "metadata": {
        "id": "zA1haIm_LuN9",
        "colab_type": "code",
        "colab": {}
      },
      "source": [
        "#predict function\n",
        "def predict_tweet(tweet):\n",
        "  with tf.Session() as sess:\n",
        "    saver.restore(sess,save_path='TSession')\n",
        "    data=[]\n",
        "    for t in tweet:\n",
        "      data.append(extract_features(t,freqs))\n",
        "    data=np.asarray(data)\n",
        "    return sess.run(tf.nn.sigmoid(tf.add(tf.matmul(a=data,b=W,transpose_b=True),b)))\n",
        "  print(\"fail\")\n",
        "  return  \n",
        "\n",
        "#bias and weight\n",
        "b=tf.Variable(np.random.randn(1),name=\"Bias\")\n",
        "W=tf.Variable(np.random.randn(1,2),name=\"Bias\")"
      ],
      "execution_count": 61,
      "outputs": []
    },
    {
      "cell_type": "code",
      "metadata": {
        "id": "OmKGIGVjMBUb",
        "colab_type": "code",
        "colab": {}
      },
      "source": [
        "#extract all features\n",
        "data=[]\n",
        "for t in train_x:\n",
        "    data.append(extract_features(t,freqs))\n",
        "data=np.asarray(data)"
      ],
      "execution_count": 62,
      "outputs": []
    },
    {
      "cell_type": "code",
      "metadata": {
        "id": "0RuhHSaxMDb5",
        "colab_type": "code",
        "colab": {
          "base_uri": "https://localhost:8080/",
          "height": 51
        },
        "outputId": "33e0ad79-d901-49ec-f461-8ced4d4c6d4d"
      },
      "source": [
        "#sigmoid function and cost function\n",
        "Y_hat=tf.nn.sigmoid(tf.add(tf.matmul(np.asarray(data),W,transpose_b=True),b))\n",
        "print(Y_hat)\n",
        "ta=np.asarray(train_y)\n",
        "cost=tf.nn.sigmoid_cross_entropy_with_logits(logits=Y_hat,labels=ta)\n",
        "print(cost)"
      ],
      "execution_count": 63,
      "outputs": [
        {
          "output_type": "stream",
          "text": [
            "Tensor(\"Sigmoid_8:0\", shape=(7500, 1), dtype=float64)\n",
            "Tensor(\"logistic_loss_4:0\", shape=(7500, 1), dtype=float64)\n"
          ],
          "name": "stdout"
        }
      ]
    },
    {
      "cell_type": "code",
      "metadata": {
        "id": "JPVQRHRpMN36",
        "colab_type": "code",
        "colab": {
          "base_uri": "https://localhost:8080/",
          "height": 68
        },
        "outputId": "ea9be54f-7400-4540-c6cb-af788c703674"
      },
      "source": [
        "#Gradient Descent Optimizer\n",
        "optimizer=tf.train.GradientDescentOptimizer(learning_rate=1e-4,name=\"GradientDescent\").minimize(cost)\n",
        "init=tf.global_variables_initializer()\n",
        "\n",
        "saver=tf.train.Saver()\n",
        "with tf.Session() as sess:\n",
        "  sess.run(init)\n",
        "  print(\"Bias\",sess.run(b))\n",
        "  print(\"Weight\",sess.run(W))\n",
        "  for epoch in range(400):\n",
        "    sess.run(optimizer)\n",
        "    preds=sess.run(Y_hat)\n",
        "    acc=((preds==ta).sum())/len(train_y)\n",
        "    accu=[]\n",
        "    repoch=False\n",
        "    if repoch:\n",
        "      accu.append(acc)\n",
        "    if epoch % 1000==0:\n",
        "      print(\"Accuracy\",acc)\n",
        "    saved_path=saver.save(sess,'TSession')"
      ],
      "execution_count": 64,
      "outputs": [
        {
          "output_type": "stream",
          "text": [
            "Bias [0.45161577]\n",
            "Weight [[ 0.13756078 -0.72522957]]\n",
            "Accuracy 0.8928\n"
          ],
          "name": "stdout"
        }
      ]
    },
    {
      "cell_type": "code",
      "metadata": {
        "id": "qbMcijHaMOHO",
        "colab_type": "code",
        "colab": {
          "base_uri": "https://localhost:8080/",
          "height": 153
        },
        "outputId": "020db103-95c1-4ca5-ffe6-62a6855f4ce9"
      },
      "source": [
        "#predict all tweet\n",
        "preds=predict_tweet(test_x)\n",
        "print(preds,len(test_y))"
      ],
      "execution_count": 65,
      "outputs": [
        {
          "output_type": "stream",
          "text": [
            "INFO:tensorflow:Restoring parameters from TSession\n",
            "[[1.]\n",
            " [1.]\n",
            " [0.]\n",
            " ...\n",
            " [1.]\n",
            " [1.]\n",
            " [1.]] 2500\n"
          ],
          "name": "stdout"
        }
      ]
    },
    {
      "cell_type": "code",
      "metadata": {
        "id": "o8FDO08jMfi7",
        "colab_type": "code",
        "colab": {
          "base_uri": "https://localhost:8080/",
          "height": 34
        },
        "outputId": "700f7938-69e0-4db3-b9bb-e114f8944b1c"
      },
      "source": [
        "#calculate accuracy\n",
        "def calculate_accuracy(x,y):\n",
        "  if len(x)!=len(y):\n",
        "    print(\"dimnsion are different\")\n",
        "    return\n",
        "  return ((x==y).sum())/len(y)\n",
        "\n",
        "print(calculate_accuracy(preds,test_y))"
      ],
      "execution_count": 66,
      "outputs": [
        {
          "output_type": "stream",
          "text": [
            "0.9172\n"
          ],
          "name": "stdout"
        }
      ]
    }
  ]
}